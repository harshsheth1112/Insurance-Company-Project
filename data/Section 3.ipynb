{
 "cells": [
  {
   "cell_type": "markdown",
   "metadata": {},
   "source": [
    "# Section III - Visualizing Data"
   ]
  },
  {
   "cell_type": "code",
   "execution_count": 129,
   "metadata": {},
   "outputs": [],
   "source": [
    "import pandas as pd\n",
    "import numpy as np\n",
    "import matplotlib.pyplot as plt"
   ]
  },
  {
   "cell_type": "code",
   "execution_count": 130,
   "metadata": {},
   "outputs": [],
   "source": [
    "names = pd.read_csv(\"names_id_age.csv\")\n",
    "sales = pd.read_csv(\"lead_sale_stats.csv\")"
   ]
  },
  {
   "cell_type": "code",
   "execution_count": 131,
   "metadata": {},
   "outputs": [],
   "source": [
    "# dropping the NaN values\n",
    "sales = sales.dropna()"
   ]
  },
  {
   "cell_type": "code",
   "execution_count": 132,
   "metadata": {},
   "outputs": [],
   "source": [
    "# spliting the \"lead_id\" column into \"lead\" & \"id\"\n",
    "sales[['lead','id']] = sales['lead_id'].str.split('_',expand=True)"
   ]
  },
  {
   "cell_type": "code",
   "execution_count": 133,
   "metadata": {},
   "outputs": [],
   "source": [
    "del sales['lead_id']"
   ]
  },
  {
   "cell_type": "code",
   "execution_count": 134,
   "metadata": {},
   "outputs": [
    {
     "data": {
      "text/html": [
       "<div>\n",
       "<style scoped>\n",
       "    .dataframe tbody tr th:only-of-type {\n",
       "        vertical-align: middle;\n",
       "    }\n",
       "\n",
       "    .dataframe tbody tr th {\n",
       "        vertical-align: top;\n",
       "    }\n",
       "\n",
       "    .dataframe thead th {\n",
       "        text-align: right;\n",
       "    }\n",
       "</style>\n",
       "<table border=\"1\" class=\"dataframe\">\n",
       "  <thead>\n",
       "    <tr style=\"text-align: right;\">\n",
       "      <th></th>\n",
       "      <th>name</th>\n",
       "      <th>bought_policy</th>\n",
       "      <th>policy_amount</th>\n",
       "      <th>lead</th>\n",
       "      <th>id</th>\n",
       "    </tr>\n",
       "  </thead>\n",
       "  <tbody>\n",
       "    <tr>\n",
       "      <th>0</th>\n",
       "      <td>AN4UFZ08R</td>\n",
       "      <td>0</td>\n",
       "      <td>0</td>\n",
       "      <td>1197608</td>\n",
       "      <td>b</td>\n",
       "    </tr>\n",
       "    <tr>\n",
       "      <th>1</th>\n",
       "      <td>M0XPQP</td>\n",
       "      <td>1</td>\n",
       "      <td>403</td>\n",
       "      <td>c</td>\n",
       "      <td>1116417</td>\n",
       "    </tr>\n",
       "    <tr>\n",
       "      <th>2</th>\n",
       "      <td>LUH4V4F9</td>\n",
       "      <td>1</td>\n",
       "      <td>367</td>\n",
       "      <td>a</td>\n",
       "      <td>1125118</td>\n",
       "    </tr>\n",
       "    <tr>\n",
       "      <th>3</th>\n",
       "      <td>KVC2IK</td>\n",
       "      <td>0</td>\n",
       "      <td>0</td>\n",
       "      <td>a</td>\n",
       "      <td>449886</td>\n",
       "    </tr>\n",
       "    <tr>\n",
       "      <th>4</th>\n",
       "      <td>3CIXG65M6W</td>\n",
       "      <td>0</td>\n",
       "      <td>0</td>\n",
       "      <td>b</td>\n",
       "      <td>668018</td>\n",
       "    </tr>\n",
       "  </tbody>\n",
       "</table>\n",
       "</div>"
      ],
      "text/plain": [
       "         name  bought_policy  policy_amount     lead       id\n",
       "0   AN4UFZ08R              0              0  1197608        b\n",
       "1      M0XPQP              1            403        c  1116417\n",
       "2    LUH4V4F9              1            367        a  1125118\n",
       "3      KVC2IK              0              0        a   449886\n",
       "4  3CIXG65M6W              0              0        b   668018"
      ]
     },
     "execution_count": 134,
     "metadata": {},
     "output_type": "execute_result"
    }
   ],
   "source": [
    "sales.head()"
   ]
  },
  {
   "cell_type": "code",
   "execution_count": 135,
   "metadata": {},
   "outputs": [],
   "source": [
    "# cleaning the \"lead\" and \"id\" column to get leads and ids in order\n",
    "sales['lead_type'] = np.where(sales['lead'].str.isalpha(), sales['lead'], sales['id'])\n",
    "\n",
    "sales['lead_id'] = np.where(sales['id'].str.isnumeric(), sales['id'], sales['lead'])"
   ]
  },
  {
   "cell_type": "code",
   "execution_count": 136,
   "metadata": {},
   "outputs": [
    {
     "data": {
      "text/html": [
       "<div>\n",
       "<style scoped>\n",
       "    .dataframe tbody tr th:only-of-type {\n",
       "        vertical-align: middle;\n",
       "    }\n",
       "\n",
       "    .dataframe tbody tr th {\n",
       "        vertical-align: top;\n",
       "    }\n",
       "\n",
       "    .dataframe thead th {\n",
       "        text-align: right;\n",
       "    }\n",
       "</style>\n",
       "<table border=\"1\" class=\"dataframe\">\n",
       "  <thead>\n",
       "    <tr style=\"text-align: right;\">\n",
       "      <th></th>\n",
       "      <th>name</th>\n",
       "      <th>bought_policy</th>\n",
       "      <th>policy_amount</th>\n",
       "      <th>lead</th>\n",
       "      <th>id</th>\n",
       "      <th>lead_type</th>\n",
       "      <th>lead_id</th>\n",
       "    </tr>\n",
       "  </thead>\n",
       "  <tbody>\n",
       "    <tr>\n",
       "      <th>0</th>\n",
       "      <td>AN4UFZ08R</td>\n",
       "      <td>0</td>\n",
       "      <td>0</td>\n",
       "      <td>1197608</td>\n",
       "      <td>b</td>\n",
       "      <td>b</td>\n",
       "      <td>1197608</td>\n",
       "    </tr>\n",
       "    <tr>\n",
       "      <th>1</th>\n",
       "      <td>M0XPQP</td>\n",
       "      <td>1</td>\n",
       "      <td>403</td>\n",
       "      <td>c</td>\n",
       "      <td>1116417</td>\n",
       "      <td>c</td>\n",
       "      <td>1116417</td>\n",
       "    </tr>\n",
       "    <tr>\n",
       "      <th>2</th>\n",
       "      <td>LUH4V4F9</td>\n",
       "      <td>1</td>\n",
       "      <td>367</td>\n",
       "      <td>a</td>\n",
       "      <td>1125118</td>\n",
       "      <td>a</td>\n",
       "      <td>1125118</td>\n",
       "    </tr>\n",
       "    <tr>\n",
       "      <th>3</th>\n",
       "      <td>KVC2IK</td>\n",
       "      <td>0</td>\n",
       "      <td>0</td>\n",
       "      <td>a</td>\n",
       "      <td>449886</td>\n",
       "      <td>a</td>\n",
       "      <td>449886</td>\n",
       "    </tr>\n",
       "    <tr>\n",
       "      <th>4</th>\n",
       "      <td>3CIXG65M6W</td>\n",
       "      <td>0</td>\n",
       "      <td>0</td>\n",
       "      <td>b</td>\n",
       "      <td>668018</td>\n",
       "      <td>b</td>\n",
       "      <td>668018</td>\n",
       "    </tr>\n",
       "  </tbody>\n",
       "</table>\n",
       "</div>"
      ],
      "text/plain": [
       "         name  bought_policy  policy_amount     lead       id lead_type  \\\n",
       "0   AN4UFZ08R              0              0  1197608        b         b   \n",
       "1      M0XPQP              1            403        c  1116417         c   \n",
       "2    LUH4V4F9              1            367        a  1125118         a   \n",
       "3      KVC2IK              0              0        a   449886         a   \n",
       "4  3CIXG65M6W              0              0        b   668018         b   \n",
       "\n",
       "   lead_id  \n",
       "0  1197608  \n",
       "1  1116417  \n",
       "2  1125118  \n",
       "3   449886  \n",
       "4   668018  "
      ]
     },
     "execution_count": 136,
     "metadata": {},
     "output_type": "execute_result"
    }
   ],
   "source": [
    "sales.head()"
   ]
  },
  {
   "cell_type": "code",
   "execution_count": 137,
   "metadata": {},
   "outputs": [],
   "source": [
    "del sales['lead']"
   ]
  },
  {
   "cell_type": "code",
   "execution_count": 138,
   "metadata": {},
   "outputs": [],
   "source": [
    "del sales['id']"
   ]
  },
  {
   "cell_type": "code",
   "execution_count": 139,
   "metadata": {},
   "outputs": [],
   "source": [
    "# Capitalizing the \"lead_type\" column\n",
    "sales['lead_type'] = sales['lead_type'].str.upper()"
   ]
  },
  {
   "cell_type": "code",
   "execution_count": 140,
   "metadata": {},
   "outputs": [
    {
     "data": {
      "text/html": [
       "<div>\n",
       "<style scoped>\n",
       "    .dataframe tbody tr th:only-of-type {\n",
       "        vertical-align: middle;\n",
       "    }\n",
       "\n",
       "    .dataframe tbody tr th {\n",
       "        vertical-align: top;\n",
       "    }\n",
       "\n",
       "    .dataframe thead th {\n",
       "        text-align: right;\n",
       "    }\n",
       "</style>\n",
       "<table border=\"1\" class=\"dataframe\">\n",
       "  <thead>\n",
       "    <tr style=\"text-align: right;\">\n",
       "      <th></th>\n",
       "      <th>name</th>\n",
       "      <th>bought_policy</th>\n",
       "      <th>policy_amount</th>\n",
       "      <th>lead_type</th>\n",
       "      <th>lead_id</th>\n",
       "    </tr>\n",
       "  </thead>\n",
       "  <tbody>\n",
       "    <tr>\n",
       "      <th>0</th>\n",
       "      <td>AN4UFZ08R</td>\n",
       "      <td>0</td>\n",
       "      <td>0</td>\n",
       "      <td>B</td>\n",
       "      <td>1197608</td>\n",
       "    </tr>\n",
       "    <tr>\n",
       "      <th>1</th>\n",
       "      <td>M0XPQP</td>\n",
       "      <td>1</td>\n",
       "      <td>403</td>\n",
       "      <td>C</td>\n",
       "      <td>1116417</td>\n",
       "    </tr>\n",
       "    <tr>\n",
       "      <th>2</th>\n",
       "      <td>LUH4V4F9</td>\n",
       "      <td>1</td>\n",
       "      <td>367</td>\n",
       "      <td>A</td>\n",
       "      <td>1125118</td>\n",
       "    </tr>\n",
       "    <tr>\n",
       "      <th>3</th>\n",
       "      <td>KVC2IK</td>\n",
       "      <td>0</td>\n",
       "      <td>0</td>\n",
       "      <td>A</td>\n",
       "      <td>449886</td>\n",
       "    </tr>\n",
       "    <tr>\n",
       "      <th>4</th>\n",
       "      <td>3CIXG65M6W</td>\n",
       "      <td>0</td>\n",
       "      <td>0</td>\n",
       "      <td>B</td>\n",
       "      <td>668018</td>\n",
       "    </tr>\n",
       "  </tbody>\n",
       "</table>\n",
       "</div>"
      ],
      "text/plain": [
       "         name  bought_policy  policy_amount lead_type  lead_id\n",
       "0   AN4UFZ08R              0              0         B  1197608\n",
       "1      M0XPQP              1            403         C  1116417\n",
       "2    LUH4V4F9              1            367         A  1125118\n",
       "3      KVC2IK              0              0         A   449886\n",
       "4  3CIXG65M6W              0              0         B   668018"
      ]
     },
     "execution_count": 140,
     "metadata": {},
     "output_type": "execute_result"
    }
   ],
   "source": [
    "sales.head()"
   ]
  },
  {
   "cell_type": "code",
   "execution_count": 141,
   "metadata": {},
   "outputs": [],
   "source": [
    "# converting the \"lead_id\" column to integer\n",
    "sales['lead_id'] = sales['lead_id'].astype(str).astype(int)"
   ]
  },
  {
   "cell_type": "code",
   "execution_count": 142,
   "metadata": {},
   "outputs": [
    {
     "name": "stdout",
     "output_type": "stream",
     "text": [
      "<class 'pandas.core.frame.DataFrame'>\n",
      "Int64Index: 996 entries, 0 to 999\n",
      "Data columns (total 5 columns):\n",
      "name             996 non-null object\n",
      "bought_policy    996 non-null int64\n",
      "policy_amount    996 non-null int64\n",
      "lead_type        996 non-null object\n",
      "lead_id          996 non-null int64\n",
      "dtypes: int64(3), object(2)\n",
      "memory usage: 46.7+ KB\n"
     ]
    }
   ],
   "source": [
    "sales.info()"
   ]
  },
  {
   "cell_type": "code",
   "execution_count": 143,
   "metadata": {},
   "outputs": [],
   "source": [
    "# joining the \"sales\" and \"names\" dataframes\n",
    "df = pd.merge(names, sales, on='lead_id', how='left')"
   ]
  },
  {
   "cell_type": "code",
   "execution_count": 145,
   "metadata": {},
   "outputs": [],
   "source": [
    "del df['name_y']"
   ]
  },
  {
   "cell_type": "code",
   "execution_count": 146,
   "metadata": {},
   "outputs": [],
   "source": [
    "del df['lead_type_y']"
   ]
  },
  {
   "cell_type": "code",
   "execution_count": 147,
   "metadata": {},
   "outputs": [],
   "source": [
    "df = df.rename({'name_x': 'name', 'lead_type_x': 'lead_type'}, axis=1)  "
   ]
  },
  {
   "cell_type": "code",
   "execution_count": 148,
   "metadata": {},
   "outputs": [],
   "source": [
    "df = df.dropna()"
   ]
  },
  {
   "cell_type": "code",
   "execution_count": 149,
   "metadata": {},
   "outputs": [
    {
     "name": "stdout",
     "output_type": "stream",
     "text": [
      "<class 'pandas.core.frame.DataFrame'>\n",
      "Int64Index: 996 entries, 0 to 999\n",
      "Data columns (total 7 columns):\n",
      "id               996 non-null int64\n",
      "name             996 non-null object\n",
      "age              996 non-null int64\n",
      "lead_id          996 non-null int64\n",
      "lead_type        996 non-null object\n",
      "bought_policy    996 non-null float64\n",
      "policy_amount    996 non-null float64\n",
      "dtypes: float64(2), int64(3), object(2)\n",
      "memory usage: 62.2+ KB\n"
     ]
    }
   ],
   "source": [
    "df.info()"
   ]
  },
  {
   "cell_type": "code",
   "execution_count": 150,
   "metadata": {},
   "outputs": [],
   "source": [
    "# converting the \"bought_policy\" column to integer\n",
    "df['bought_policy'] = df['bought_policy'].astype(int)"
   ]
  },
  {
   "cell_type": "code",
   "execution_count": 151,
   "metadata": {},
   "outputs": [],
   "source": [
    "# converting the \"policy_amount\" column to integer\n",
    "df['policy_amount'] = df['policy_amount'].astype(int)"
   ]
  },
  {
   "cell_type": "code",
   "execution_count": 152,
   "metadata": {},
   "outputs": [
    {
     "data": {
      "text/html": [
       "<div>\n",
       "<style scoped>\n",
       "    .dataframe tbody tr th:only-of-type {\n",
       "        vertical-align: middle;\n",
       "    }\n",
       "\n",
       "    .dataframe tbody tr th {\n",
       "        vertical-align: top;\n",
       "    }\n",
       "\n",
       "    .dataframe thead th {\n",
       "        text-align: right;\n",
       "    }\n",
       "</style>\n",
       "<table border=\"1\" class=\"dataframe\">\n",
       "  <thead>\n",
       "    <tr style=\"text-align: right;\">\n",
       "      <th></th>\n",
       "      <th>id</th>\n",
       "      <th>name</th>\n",
       "      <th>age</th>\n",
       "      <th>lead_id</th>\n",
       "      <th>lead_type</th>\n",
       "      <th>bought_policy</th>\n",
       "      <th>policy_amount</th>\n",
       "    </tr>\n",
       "  </thead>\n",
       "  <tbody>\n",
       "    <tr>\n",
       "      <th>0</th>\n",
       "      <td>0</td>\n",
       "      <td>AN4UFZ08R</td>\n",
       "      <td>40</td>\n",
       "      <td>1197608</td>\n",
       "      <td>B</td>\n",
       "      <td>0</td>\n",
       "      <td>0</td>\n",
       "    </tr>\n",
       "    <tr>\n",
       "      <th>1</th>\n",
       "      <td>1</td>\n",
       "      <td>M0XPQP</td>\n",
       "      <td>41</td>\n",
       "      <td>1116417</td>\n",
       "      <td>C</td>\n",
       "      <td>1</td>\n",
       "      <td>403</td>\n",
       "    </tr>\n",
       "    <tr>\n",
       "      <th>2</th>\n",
       "      <td>2</td>\n",
       "      <td>LUH4V4F9</td>\n",
       "      <td>45</td>\n",
       "      <td>1125118</td>\n",
       "      <td>A</td>\n",
       "      <td>1</td>\n",
       "      <td>367</td>\n",
       "    </tr>\n",
       "    <tr>\n",
       "      <th>3</th>\n",
       "      <td>3</td>\n",
       "      <td>KVC2IK</td>\n",
       "      <td>47</td>\n",
       "      <td>449886</td>\n",
       "      <td>A</td>\n",
       "      <td>0</td>\n",
       "      <td>0</td>\n",
       "    </tr>\n",
       "    <tr>\n",
       "      <th>4</th>\n",
       "      <td>4</td>\n",
       "      <td>3CIXG65M6W</td>\n",
       "      <td>53</td>\n",
       "      <td>668018</td>\n",
       "      <td>B</td>\n",
       "      <td>0</td>\n",
       "      <td>0</td>\n",
       "    </tr>\n",
       "  </tbody>\n",
       "</table>\n",
       "</div>"
      ],
      "text/plain": [
       "   id        name  age  lead_id lead_type  bought_policy  policy_amount\n",
       "0   0   AN4UFZ08R   40  1197608         B              0              0\n",
       "1   1      M0XPQP   41  1116417         C              1            403\n",
       "2   2    LUH4V4F9   45  1125118         A              1            367\n",
       "3   3      KVC2IK   47   449886         A              0              0\n",
       "4   4  3CIXG65M6W   53   668018         B              0              0"
      ]
     },
     "execution_count": 152,
     "metadata": {},
     "output_type": "execute_result"
    }
   ],
   "source": [
    "df.head()"
   ]
  },
  {
   "cell_type": "markdown",
   "metadata": {},
   "source": [
    "### Come up with a single figure that uses the data to help us determine how we can grow as a business. Produce a single figure (with a line or two description if you would like) to help our executive team grow the business\n",
    "\n",
    "For this I decided to go with a Stacked Bar Chart, with the lead type on the X-axis and where the policy was bought or not on the Y -axis."
   ]
  },
  {
   "cell_type": "code",
   "execution_count": 153,
   "metadata": {},
   "outputs": [],
   "source": [
    "df2 = pd.DataFrame(df.groupby(['bought_policy','lead_type'])['id'].count())"
   ]
  },
  {
   "cell_type": "code",
   "execution_count": 154,
   "metadata": {},
   "outputs": [
    {
     "data": {
      "text/html": [
       "<div>\n",
       "<style scoped>\n",
       "    .dataframe tbody tr th:only-of-type {\n",
       "        vertical-align: middle;\n",
       "    }\n",
       "\n",
       "    .dataframe tbody tr th {\n",
       "        vertical-align: top;\n",
       "    }\n",
       "\n",
       "    .dataframe thead th {\n",
       "        text-align: right;\n",
       "    }\n",
       "</style>\n",
       "<table border=\"1\" class=\"dataframe\">\n",
       "  <thead>\n",
       "    <tr style=\"text-align: right;\">\n",
       "      <th></th>\n",
       "      <th>bought_policy</th>\n",
       "      <th>id</th>\n",
       "    </tr>\n",
       "    <tr>\n",
       "      <th>lead_type</th>\n",
       "      <th></th>\n",
       "      <th></th>\n",
       "    </tr>\n",
       "  </thead>\n",
       "  <tbody>\n",
       "    <tr>\n",
       "      <th>A</th>\n",
       "      <td>0</td>\n",
       "      <td>152</td>\n",
       "    </tr>\n",
       "    <tr>\n",
       "      <th>B</th>\n",
       "      <td>0</td>\n",
       "      <td>157</td>\n",
       "    </tr>\n",
       "    <tr>\n",
       "      <th>C</th>\n",
       "      <td>0</td>\n",
       "      <td>130</td>\n",
       "    </tr>\n",
       "    <tr>\n",
       "      <th>A</th>\n",
       "      <td>1</td>\n",
       "      <td>192</td>\n",
       "    </tr>\n",
       "    <tr>\n",
       "      <th>B</th>\n",
       "      <td>1</td>\n",
       "      <td>173</td>\n",
       "    </tr>\n",
       "    <tr>\n",
       "      <th>C</th>\n",
       "      <td>1</td>\n",
       "      <td>192</td>\n",
       "    </tr>\n",
       "  </tbody>\n",
       "</table>\n",
       "</div>"
      ],
      "text/plain": [
       "           bought_policy   id\n",
       "lead_type                    \n",
       "A                      0  152\n",
       "B                      0  157\n",
       "C                      0  130\n",
       "A                      1  192\n",
       "B                      1  173\n",
       "C                      1  192"
      ]
     },
     "execution_count": 154,
     "metadata": {},
     "output_type": "execute_result"
    }
   ],
   "source": [
    "df2.reset_index(level=0, inplace=True)\n",
    "df2"
   ]
  },
  {
   "cell_type": "code",
   "execution_count": 155,
   "metadata": {},
   "outputs": [],
   "source": [
    "df2 = df2.pivot(index=df2.index,columns='bought_policy')['id']"
   ]
  },
  {
   "cell_type": "code",
   "execution_count": 156,
   "metadata": {},
   "outputs": [
    {
     "data": {
      "text/html": [
       "<div>\n",
       "<style scoped>\n",
       "    .dataframe tbody tr th:only-of-type {\n",
       "        vertical-align: middle;\n",
       "    }\n",
       "\n",
       "    .dataframe tbody tr th {\n",
       "        vertical-align: top;\n",
       "    }\n",
       "\n",
       "    .dataframe thead th {\n",
       "        text-align: right;\n",
       "    }\n",
       "</style>\n",
       "<table border=\"1\" class=\"dataframe\">\n",
       "  <thead>\n",
       "    <tr style=\"text-align: right;\">\n",
       "      <th>bought_policy</th>\n",
       "      <th>0</th>\n",
       "      <th>1</th>\n",
       "    </tr>\n",
       "    <tr>\n",
       "      <th>lead_type</th>\n",
       "      <th></th>\n",
       "      <th></th>\n",
       "    </tr>\n",
       "  </thead>\n",
       "  <tbody>\n",
       "    <tr>\n",
       "      <th>A</th>\n",
       "      <td>152</td>\n",
       "      <td>192</td>\n",
       "    </tr>\n",
       "    <tr>\n",
       "      <th>B</th>\n",
       "      <td>157</td>\n",
       "      <td>173</td>\n",
       "    </tr>\n",
       "    <tr>\n",
       "      <th>C</th>\n",
       "      <td>130</td>\n",
       "      <td>192</td>\n",
       "    </tr>\n",
       "  </tbody>\n",
       "</table>\n",
       "</div>"
      ],
      "text/plain": [
       "bought_policy    0    1\n",
       "lead_type              \n",
       "A              152  192\n",
       "B              157  173\n",
       "C              130  192"
      ]
     },
     "execution_count": 156,
     "metadata": {},
     "output_type": "execute_result"
    }
   ],
   "source": [
    "df2"
   ]
  },
  {
   "cell_type": "code",
   "execution_count": 157,
   "metadata": {},
   "outputs": [],
   "source": [
    "df2.reset_index(level=0, inplace=True)"
   ]
  },
  {
   "cell_type": "code",
   "execution_count": 158,
   "metadata": {},
   "outputs": [
    {
     "data": {
      "image/png": "[encoded data removed]",
      "text/plain": [
       "<Figure size 720x504 with 1 Axes>"
      ]
     },
     "metadata": {
      "needs_background": "light"
     },
     "output_type": "display_data"
    }
   ],
   "source": [
    "# code for the stacked bar chart\n",
    "leg = ['No','Yes']\n",
    "lead = df2.iloc[:,0]\n",
    "zero = df2.iloc[:,1]\n",
    "one = df2.iloc[:,2]\n",
    "index = np.arange(len(df2))\n",
    "plt.figure(figsize=(10,7))\n",
    "plt.bar(x=index, height=zero, width=0.35)\n",
    "plt.bar(x=index, height=one, width=0.35, bottom=zero)\n",
    "plt.xlabel('Lead Type')\n",
    "plt.ylabel('Count')\n",
    "plt.legend(leg)\n",
    "plt.xticks(index, lead)\n",
    "nl = list(df2[0])\n",
    "yl = list(df2[1])\n",
    "for i in range(len(nl)):\n",
    "    plt.text(x = index[i]-0.1 , y = zero[i]-25, s = nl[i], size = 12)\n",
    "for j in range(len(yl)):\n",
    "    plt.text(x = index[j]-0.1 , y = zero[j]+yl[j]-25, s = yl[j], size = 12)\n",
    "plt.title(\"Count of Policies Bought Based on Lead Type\")\n",
    "\n",
    "plt.show()"
   ]
  },
  {
   "cell_type": "markdown",
   "metadata": {},
   "source": [
    "**Following insights can be drawn from the above figure:**<br><br>\n",
    "\n",
    "**1. Assuming Insurify gets some commission from the parterns for customers going from Insurify to the partner website and buying a policy, so this graph can help the business team build new strategy for their Type A customers**<br>\n",
    "**2. The lead type metric (A, B, C) is not a very reliable source to predict the customer type since Type A and C has the same conversion for the policy being bought (i.e. 192)**<br>"
   ]
  },
  {
   "cell_type": "code",
   "execution_count": null,
   "metadata": {},
   "outputs": [],
   "source": []
  }
 ],
 "metadata": {
  "kernelspec": {
   "display_name": "Python 3",
   "language": "python",
   "name": "python3"
  },
  "language_info": {
   "codemirror_mode": {
    "name": "ipython",
    "version": 3
   },
   "file_extension": ".py",
   "mimetype": "text/x-python",
   "name": "python",
   "nbconvert_exporter": "python",
   "pygments_lexer": "ipython3",
   "version": "3.7.1"
  }
 },
 "nbformat": 4,
 "nbformat_minor": 2
}
