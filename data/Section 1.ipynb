{
 "cells": [
  {
   "cell_type": "markdown",
   "metadata": {},
   "source": [
    "# Section I: Looking at Demographics + Medical Charges"
   ]
  },
  {
   "cell_type": "code",
   "execution_count": 1,
   "metadata": {},
   "outputs": [],
   "source": [
    "import pandas as pd\n",
    "import numpy as np\n",
    "import seaborn as sns\n",
    "from sklearn import linear_model\n",
    "from sklearn.model_selection import train_test_split\n",
    "from sklearn.model_selection import cross_val_score\n",
    "import statsmodels.api as sm\n",
    "from sklearn.preprocessing import StandardScaler\n",
    "from sklearn.pipeline import Pipeline\n",
    "import matplotlib.pyplot as plt"
   ]
  },
  {
   "cell_type": "code",
   "execution_count": 2,
   "metadata": {},
   "outputs": [],
   "source": [
    "df = pd.read_csv(\"insurance.csv\")"
   ]
  },
  {
   "cell_type": "code",
   "execution_count": 3,
   "metadata": {},
   "outputs": [
    {
     "data": {
      "text/html": [
       "<div>\n",
       "<style scoped>\n",
       "    .dataframe tbody tr th:only-of-type {\n",
       "        vertical-align: middle;\n",
       "    }\n",
       "\n",
       "    .dataframe tbody tr th {\n",
       "        vertical-align: top;\n",
       "    }\n",
       "\n",
       "    .dataframe thead th {\n",
       "        text-align: right;\n",
       "    }\n",
       "</style>\n",
       "<table border=\"1\" class=\"dataframe\">\n",
       "  <thead>\n",
       "    <tr style=\"text-align: right;\">\n",
       "      <th></th>\n",
       "      <th>age</th>\n",
       "      <th>sex</th>\n",
       "      <th>bmi</th>\n",
       "      <th>children</th>\n",
       "      <th>smoker</th>\n",
       "      <th>region</th>\n",
       "      <th>charges</th>\n",
       "    </tr>\n",
       "  </thead>\n",
       "  <tbody>\n",
       "    <tr>\n",
       "      <th>0</th>\n",
       "      <td>45</td>\n",
       "      <td>female</td>\n",
       "      <td>25.175</td>\n",
       "      <td>2</td>\n",
       "      <td>no</td>\n",
       "      <td>northeast</td>\n",
       "      <td>9095.06825</td>\n",
       "    </tr>\n",
       "    <tr>\n",
       "      <th>1</th>\n",
       "      <td>36</td>\n",
       "      <td>female</td>\n",
       "      <td>30.020</td>\n",
       "      <td>0</td>\n",
       "      <td>no</td>\n",
       "      <td>northwest</td>\n",
       "      <td>5272.17580</td>\n",
       "    </tr>\n",
       "    <tr>\n",
       "      <th>2</th>\n",
       "      <td>64</td>\n",
       "      <td>female</td>\n",
       "      <td>26.885</td>\n",
       "      <td>0</td>\n",
       "      <td>yes</td>\n",
       "      <td>northwest</td>\n",
       "      <td>29330.98315</td>\n",
       "    </tr>\n",
       "    <tr>\n",
       "      <th>3</th>\n",
       "      <td>46</td>\n",
       "      <td>male</td>\n",
       "      <td>25.745</td>\n",
       "      <td>3</td>\n",
       "      <td>no</td>\n",
       "      <td>northwest</td>\n",
       "      <td>9301.89355</td>\n",
       "    </tr>\n",
       "    <tr>\n",
       "      <th>4</th>\n",
       "      <td>19</td>\n",
       "      <td>male</td>\n",
       "      <td>31.920</td>\n",
       "      <td>0</td>\n",
       "      <td>yes</td>\n",
       "      <td>northwest</td>\n",
       "      <td>33750.29180</td>\n",
       "    </tr>\n",
       "  </tbody>\n",
       "</table>\n",
       "</div>"
      ],
      "text/plain": [
       "   age     sex     bmi  children smoker     region      charges\n",
       "0   45  female  25.175         2     no  northeast   9095.06825\n",
       "1   36  female  30.020         0     no  northwest   5272.17580\n",
       "2   64  female  26.885         0    yes  northwest  29330.98315\n",
       "3   46    male  25.745         3     no  northwest   9301.89355\n",
       "4   19    male  31.920         0    yes  northwest  33750.29180"
      ]
     },
     "execution_count": 3,
     "metadata": {},
     "output_type": "execute_result"
    }
   ],
   "source": [
    "df.head()"
   ]
  },
  {
   "cell_type": "markdown",
   "metadata": {},
   "source": [
    "### Cleaning"
   ]
  },
  {
   "cell_type": "code",
   "execution_count": 4,
   "metadata": {},
   "outputs": [],
   "source": [
    "df['sex'] = np.where(df['sex'] == 'male', 1, 0)\n",
    "df['smoker'] = np.where(df['smoker'] == 'yes', 1, 0)\n",
    "df['have_kids'] = np.where(df['children'] == 0,0 ,1)"
   ]
  },
  {
   "cell_type": "code",
   "execution_count": 5,
   "metadata": {},
   "outputs": [],
   "source": [
    "del df['children']"
   ]
  },
  {
   "cell_type": "code",
   "execution_count": 6,
   "metadata": {},
   "outputs": [
    {
     "data": {
      "text/html": [
       "<div>\n",
       "<style scoped>\n",
       "    .dataframe tbody tr th:only-of-type {\n",
       "        vertical-align: middle;\n",
       "    }\n",
       "\n",
       "    .dataframe tbody tr th {\n",
       "        vertical-align: top;\n",
       "    }\n",
       "\n",
       "    .dataframe thead th {\n",
       "        text-align: right;\n",
       "    }\n",
       "</style>\n",
       "<table border=\"1\" class=\"dataframe\">\n",
       "  <thead>\n",
       "    <tr style=\"text-align: right;\">\n",
       "      <th></th>\n",
       "      <th>age</th>\n",
       "      <th>sex</th>\n",
       "      <th>bmi</th>\n",
       "      <th>smoker</th>\n",
       "      <th>region</th>\n",
       "      <th>charges</th>\n",
       "      <th>have_kids</th>\n",
       "    </tr>\n",
       "  </thead>\n",
       "  <tbody>\n",
       "    <tr>\n",
       "      <th>0</th>\n",
       "      <td>45</td>\n",
       "      <td>0</td>\n",
       "      <td>25.175</td>\n",
       "      <td>0</td>\n",
       "      <td>northeast</td>\n",
       "      <td>9095.06825</td>\n",
       "      <td>1</td>\n",
       "    </tr>\n",
       "    <tr>\n",
       "      <th>1</th>\n",
       "      <td>36</td>\n",
       "      <td>0</td>\n",
       "      <td>30.020</td>\n",
       "      <td>0</td>\n",
       "      <td>northwest</td>\n",
       "      <td>5272.17580</td>\n",
       "      <td>0</td>\n",
       "    </tr>\n",
       "    <tr>\n",
       "      <th>2</th>\n",
       "      <td>64</td>\n",
       "      <td>0</td>\n",
       "      <td>26.885</td>\n",
       "      <td>1</td>\n",
       "      <td>northwest</td>\n",
       "      <td>29330.98315</td>\n",
       "      <td>0</td>\n",
       "    </tr>\n",
       "    <tr>\n",
       "      <th>3</th>\n",
       "      <td>46</td>\n",
       "      <td>1</td>\n",
       "      <td>25.745</td>\n",
       "      <td>0</td>\n",
       "      <td>northwest</td>\n",
       "      <td>9301.89355</td>\n",
       "      <td>1</td>\n",
       "    </tr>\n",
       "    <tr>\n",
       "      <th>4</th>\n",
       "      <td>19</td>\n",
       "      <td>1</td>\n",
       "      <td>31.920</td>\n",
       "      <td>1</td>\n",
       "      <td>northwest</td>\n",
       "      <td>33750.29180</td>\n",
       "      <td>0</td>\n",
       "    </tr>\n",
       "  </tbody>\n",
       "</table>\n",
       "</div>"
      ],
      "text/plain": [
       "   age  sex     bmi  smoker     region      charges  have_kids\n",
       "0   45    0  25.175       0  northeast   9095.06825          1\n",
       "1   36    0  30.020       0  northwest   5272.17580          0\n",
       "2   64    0  26.885       1  northwest  29330.98315          0\n",
       "3   46    1  25.745       0  northwest   9301.89355          1\n",
       "4   19    1  31.920       1  northwest  33750.29180          0"
      ]
     },
     "execution_count": 6,
     "metadata": {},
     "output_type": "execute_result"
    }
   ],
   "source": [
    "df.head()"
   ]
  },
  {
   "cell_type": "markdown",
   "metadata": {},
   "source": [
    "### 1. Read in Data and report summary statistics (mean + std / frequency) for age, sex, bmi, children, smoker, and charges) by region."
   ]
  },
  {
   "cell_type": "code",
   "execution_count": 7,
   "metadata": {},
   "outputs": [
    {
     "data": {
      "text/plain": [
       "(             age  sex   bmi  smoker   charges  have_kids\n",
       " region                                                  \n",
       " northeast  13.85  0.5  6.09    0.40  11126.07       0.50\n",
       " northwest  13.86  0.5  5.19    0.39  11329.23       0.49\n",
       " southeast  14.15  0.5  6.69    0.44  13933.80       0.50\n",
       " southwest  14.04  0.5  5.70    0.39  11592.10       0.49,\n",
       "              age   sex    bmi  smoker   charges  have_kids\n",
       " region                                                    \n",
       " northeast  38.83  0.49  29.41    0.20  13387.63       0.55\n",
       " northwest  39.39  0.49  29.24    0.19  12609.90       0.60\n",
       " southeast  38.94  0.53  33.40    0.27  14952.59       0.55\n",
       " southwest  40.00  0.51  30.69    0.18  12530.71       0.59)"
      ]
     },
     "execution_count": 7,
     "metadata": {},
     "output_type": "execute_result"
    }
   ],
   "source": [
    "meandf = df.groupby(\"region\").mean().round(2)\n",
    "stddf = df.groupby('region').std().round(2)\n",
    "stddf, meandf"
   ]
  },
  {
   "cell_type": "markdown",
   "metadata": {},
   "source": [
    "The \"meandf\" and \"stddf\" gives us the summary statistics."
   ]
  },
  {
   "cell_type": "markdown",
   "metadata": {},
   "source": [
    "\n",
    "### 3. In this sample, is female age different from male age?"
   ]
  },
  {
   "cell_type": "code",
   "execution_count": 9,
   "metadata": {},
   "outputs": [
    {
     "data": {
      "text/plain": [
       "sex\n",
       "0    40.004032\n",
       "1    38.606299\n",
       "Name: age, dtype: float64"
      ]
     },
     "execution_count": 9,
     "metadata": {},
     "output_type": "execute_result"
    }
   ],
   "source": [
    "mean_age = df.groupby(\"sex\")['age'].mean()\n",
    "mean_age"
   ]
  },
  {
   "cell_type": "markdown",
   "metadata": {},
   "source": [
    "The mean female age is higher than the mean meale age for this sample."
   ]
  },
  {
   "cell_type": "markdown",
   "metadata": {},
   "source": [
    "### 4. Is there a difference in smoking rates between those who have kids and those who do not?"
   ]
  },
  {
   "cell_type": "code",
   "execution_count": 10,
   "metadata": {},
   "outputs": [
    {
     "data": {
      "text/plain": [
       "have_kids  smoker\n",
       "0          0         78.45\n",
       "           1         21.55\n",
       "1          0         79.03\n",
       "           1         20.97\n",
       "Name: age, dtype: float64"
      ]
     },
     "execution_count": 10,
     "metadata": {},
     "output_type": "execute_result"
    }
   ],
   "source": [
    "smoker_kids = df.groupby([\"have_kids\",\"smoker\"])['age'].count()\n",
    "smoker_kids_p = smoker_kids.groupby(level=0).apply(lambda x:100 * x / float(x.sum())).round(2)\n",
    "smoker_kids_p "
   ]
  },
  {
   "cell_type": "markdown",
   "metadata": {},
   "source": [
    "The \"smoker_kids_p\" gives us the percentage differnce in smoking rates based on the person having kids or not."
   ]
  },
  {
   "cell_type": "markdown",
   "metadata": {},
   "source": [
    "### 5. Is there a difference in smoking rates between regions?"
   ]
  },
  {
   "cell_type": "code",
   "execution_count": 11,
   "metadata": {},
   "outputs": [
    {
     "data": {
      "text/plain": [
       "region     smoker\n",
       "northeast  0         79.56\n",
       "           1         20.44\n",
       "northwest  0         81.05\n",
       "           1         18.95\n",
       "southeast  0         73.19\n",
       "           1         26.81\n",
       "southwest  0         81.96\n",
       "           1         18.04\n",
       "Name: age, dtype: float64"
      ]
     },
     "execution_count": 11,
     "metadata": {},
     "output_type": "execute_result"
    }
   ],
   "source": [
    "reg_smoker = df.groupby([\"region\",\"smoker\"])['age'].count()\n",
    "reg_smoker_p = reg_smoker.groupby(level=0).apply(lambda x:100 * x / float(x.sum())).round(2)\n",
    "reg_smoker_p"
   ]
  },
  {
   "cell_type": "markdown",
   "metadata": {},
   "source": [
    "The \"reg_smoker_p\" gives us the percentage differnce in smoking rates between regions."
   ]
  },
  {
   "cell_type": "markdown",
   "metadata": {},
   "source": [
    "### 6. Are there any instances of high collinearity in this data-set?"
   ]
  },
  {
   "cell_type": "markdown",
   "metadata": {},
   "source": [
    "I have answered this question in the question 7. of the section"
   ]
  },
  {
   "cell_type": "code",
   "execution_count": 12,
   "metadata": {},
   "outputs": [],
   "source": [
    "df1 = pd.get_dummies(df, columns=['region'], drop_first = True)"
   ]
  },
  {
   "cell_type": "code",
   "execution_count": 13,
   "metadata": {},
   "outputs": [
    {
     "data": {
      "text/html": [
       "<div>\n",
       "<style scoped>\n",
       "    .dataframe tbody tr th:only-of-type {\n",
       "        vertical-align: middle;\n",
       "    }\n",
       "\n",
       "    .dataframe tbody tr th {\n",
       "        vertical-align: top;\n",
       "    }\n",
       "\n",
       "    .dataframe thead th {\n",
       "        text-align: right;\n",
       "    }\n",
       "</style>\n",
       "<table border=\"1\" class=\"dataframe\">\n",
       "  <thead>\n",
       "    <tr style=\"text-align: right;\">\n",
       "      <th></th>\n",
       "      <th>age</th>\n",
       "      <th>sex</th>\n",
       "      <th>bmi</th>\n",
       "      <th>smoker</th>\n",
       "      <th>charges</th>\n",
       "      <th>have_kids</th>\n",
       "      <th>region_northwest</th>\n",
       "      <th>region_southeast</th>\n",
       "      <th>region_southwest</th>\n",
       "    </tr>\n",
       "  </thead>\n",
       "  <tbody>\n",
       "    <tr>\n",
       "      <th>0</th>\n",
       "      <td>45</td>\n",
       "      <td>0</td>\n",
       "      <td>25.175</td>\n",
       "      <td>0</td>\n",
       "      <td>9095.06825</td>\n",
       "      <td>1</td>\n",
       "      <td>0</td>\n",
       "      <td>0</td>\n",
       "      <td>0</td>\n",
       "    </tr>\n",
       "    <tr>\n",
       "      <th>1</th>\n",
       "      <td>36</td>\n",
       "      <td>0</td>\n",
       "      <td>30.020</td>\n",
       "      <td>0</td>\n",
       "      <td>5272.17580</td>\n",
       "      <td>0</td>\n",
       "      <td>1</td>\n",
       "      <td>0</td>\n",
       "      <td>0</td>\n",
       "    </tr>\n",
       "    <tr>\n",
       "      <th>2</th>\n",
       "      <td>64</td>\n",
       "      <td>0</td>\n",
       "      <td>26.885</td>\n",
       "      <td>1</td>\n",
       "      <td>29330.98315</td>\n",
       "      <td>0</td>\n",
       "      <td>1</td>\n",
       "      <td>0</td>\n",
       "      <td>0</td>\n",
       "    </tr>\n",
       "    <tr>\n",
       "      <th>3</th>\n",
       "      <td>46</td>\n",
       "      <td>1</td>\n",
       "      <td>25.745</td>\n",
       "      <td>0</td>\n",
       "      <td>9301.89355</td>\n",
       "      <td>1</td>\n",
       "      <td>1</td>\n",
       "      <td>0</td>\n",
       "      <td>0</td>\n",
       "    </tr>\n",
       "    <tr>\n",
       "      <th>4</th>\n",
       "      <td>19</td>\n",
       "      <td>1</td>\n",
       "      <td>31.920</td>\n",
       "      <td>1</td>\n",
       "      <td>33750.29180</td>\n",
       "      <td>0</td>\n",
       "      <td>1</td>\n",
       "      <td>0</td>\n",
       "      <td>0</td>\n",
       "    </tr>\n",
       "  </tbody>\n",
       "</table>\n",
       "</div>"
      ],
      "text/plain": [
       "   age  sex     bmi  smoker      charges  have_kids  region_northwest  \\\n",
       "0   45    0  25.175       0   9095.06825          1                 0   \n",
       "1   36    0  30.020       0   5272.17580          0                 1   \n",
       "2   64    0  26.885       1  29330.98315          0                 1   \n",
       "3   46    1  25.745       0   9301.89355          1                 1   \n",
       "4   19    1  31.920       1  33750.29180          0                 1   \n",
       "\n",
       "   region_southeast  region_southwest  \n",
       "0                 0                 0  \n",
       "1                 0                 0  \n",
       "2                 0                 0  \n",
       "3                 0                 0  \n",
       "4                 0                 0  "
      ]
     },
     "execution_count": 13,
     "metadata": {},
     "output_type": "execute_result"
    }
   ],
   "source": [
    "df1.head()"
   ]
  },
  {
   "cell_type": "code",
   "execution_count": 14,
   "metadata": {},
   "outputs": [
    {
     "data": {
      "text/plain": [
       "<matplotlib.axes._subplots.AxesSubplot at 0x1c1c69e390>"
      ]
     },
     "execution_count": 14,
     "metadata": {},
     "output_type": "execute_result"
    },
    {
     "data": {
      "image/png": "[encoded data removed]",
      "text/plain": [
       "<Figure size 432x288 with 2 Axes>"
      ]
     },
     "metadata": {
      "needs_background": "light"
     },
     "output_type": "display_data"
    }
   ],
   "source": [
    "sns.heatmap(df1.corr(),square=True,cmap='RdYlGn')"
   ]
  },
  {
   "cell_type": "markdown",
   "metadata": {},
   "source": [
    "As we can see from the graph above, there is high positive correlation between charges and smoker."
   ]
  },
  {
   "cell_type": "markdown",
   "metadata": {},
   "source": [
    "### 7. A coworker wants to know whether:\n",
    "- being male affects medical cost\n",
    "- being a smoker affects medical cost\n",
    "- what is the effect of each additional year on medical cost\n",
    "\n",
    "#### Build a model(s) to answer this. Please detail any assumptions you make / how you checked them."
   ]
  },
  {
   "cell_type": "code",
   "execution_count": 15,
   "metadata": {},
   "outputs": [],
   "source": [
    "# spliting the data into features and target set\n",
    "X = df1.drop('charges', axis=1)\n",
    "y = df1['charges'].values"
   ]
  },
  {
   "cell_type": "code",
   "execution_count": 16,
   "metadata": {},
   "outputs": [],
   "source": [
    "# spliting the data into train and test set\n",
    "X_train, X_test, y_train, y_test = train_test_split(X, y, test_size = 0.2, random_state=42)"
   ]
  },
  {
   "cell_type": "code",
   "execution_count": 17,
   "metadata": {},
   "outputs": [],
   "source": [
    "scaler = StandardScaler()"
   ]
  },
  {
   "cell_type": "code",
   "execution_count": 18,
   "metadata": {},
   "outputs": [
    {
     "data": {
      "text/plain": [
       "StandardScaler(copy=True, with_mean=True, with_std=True)"
      ]
     },
     "execution_count": 18,
     "metadata": {},
     "output_type": "execute_result"
    }
   ],
   "source": [
    "scaler.fit(X_train)"
   ]
  },
  {
   "cell_type": "code",
   "execution_count": 19,
   "metadata": {},
   "outputs": [],
   "source": [
    "scaled_features = scaler.transform(X_train)"
   ]
  },
  {
   "cell_type": "code",
   "execution_count": 20,
   "metadata": {},
   "outputs": [
    {
     "data": {
      "text/html": [
       "<div>\n",
       "<style scoped>\n",
       "    .dataframe tbody tr th:only-of-type {\n",
       "        vertical-align: middle;\n",
       "    }\n",
       "\n",
       "    .dataframe tbody tr th {\n",
       "        vertical-align: top;\n",
       "    }\n",
       "\n",
       "    .dataframe thead th {\n",
       "        text-align: right;\n",
       "    }\n",
       "</style>\n",
       "<table border=\"1\" class=\"dataframe\">\n",
       "  <thead>\n",
       "    <tr style=\"text-align: right;\">\n",
       "      <th></th>\n",
       "      <th>age</th>\n",
       "      <th>sex</th>\n",
       "      <th>bmi</th>\n",
       "      <th>smoker</th>\n",
       "      <th>have_kids</th>\n",
       "      <th>region_northwest</th>\n",
       "      <th>region_southeast</th>\n",
       "      <th>region_southwest</th>\n",
       "    </tr>\n",
       "  </thead>\n",
       "  <tbody>\n",
       "    <tr>\n",
       "      <th>0</th>\n",
       "      <td>-0.826105</td>\n",
       "      <td>-0.981491</td>\n",
       "      <td>0.340455</td>\n",
       "      <td>-0.514361</td>\n",
       "      <td>0.837419</td>\n",
       "      <td>-0.591253</td>\n",
       "      <td>1.632993</td>\n",
       "      <td>-0.579747</td>\n",
       "    </tr>\n",
       "    <tr>\n",
       "      <th>1</th>\n",
       "      <td>-1.538861</td>\n",
       "      <td>1.018858</td>\n",
       "      <td>-0.114740</td>\n",
       "      <td>-0.514361</td>\n",
       "      <td>-1.194145</td>\n",
       "      <td>-0.591253</td>\n",
       "      <td>1.632993</td>\n",
       "      <td>-0.579747</td>\n",
       "    </tr>\n",
       "    <tr>\n",
       "      <th>2</th>\n",
       "      <td>0.670683</td>\n",
       "      <td>-0.981491</td>\n",
       "      <td>-0.148959</td>\n",
       "      <td>-0.514361</td>\n",
       "      <td>-1.194145</td>\n",
       "      <td>1.691324</td>\n",
       "      <td>-0.612372</td>\n",
       "      <td>-0.579747</td>\n",
       "    </tr>\n",
       "    <tr>\n",
       "      <th>3</th>\n",
       "      <td>-1.538861</td>\n",
       "      <td>1.018858</td>\n",
       "      <td>-0.859604</td>\n",
       "      <td>-0.514361</td>\n",
       "      <td>-1.194145</td>\n",
       "      <td>-0.591253</td>\n",
       "      <td>-0.612372</td>\n",
       "      <td>-0.579747</td>\n",
       "    </tr>\n",
       "    <tr>\n",
       "      <th>4</th>\n",
       "      <td>-1.111207</td>\n",
       "      <td>1.018858</td>\n",
       "      <td>-0.164079</td>\n",
       "      <td>1.944161</td>\n",
       "      <td>-1.194145</td>\n",
       "      <td>-0.591253</td>\n",
       "      <td>-0.612372</td>\n",
       "      <td>-0.579747</td>\n",
       "    </tr>\n",
       "  </tbody>\n",
       "</table>\n",
       "</div>"
      ],
      "text/plain": [
       "        age       sex       bmi    smoker  have_kids  region_northwest  \\\n",
       "0 -0.826105 -0.981491  0.340455 -0.514361   0.837419         -0.591253   \n",
       "1 -1.538861  1.018858 -0.114740 -0.514361  -1.194145         -0.591253   \n",
       "2  0.670683 -0.981491 -0.148959 -0.514361  -1.194145          1.691324   \n",
       "3 -1.538861  1.018858 -0.859604 -0.514361  -1.194145         -0.591253   \n",
       "4 -1.111207  1.018858 -0.164079  1.944161  -1.194145         -0.591253   \n",
       "\n",
       "   region_southeast  region_southwest  \n",
       "0          1.632993         -0.579747  \n",
       "1          1.632993         -0.579747  \n",
       "2         -0.612372         -0.579747  \n",
       "3         -0.612372         -0.579747  \n",
       "4         -0.612372         -0.579747  "
      ]
     },
     "execution_count": 20,
     "metadata": {},
     "output_type": "execute_result"
    }
   ],
   "source": [
    "# scaling the training features\n",
    "scaled_XTR = pd.DataFrame(scaled_features,columns=X_train.columns[:])\n",
    "scaled_XTR.head()"
   ]
  },
  {
   "cell_type": "code",
   "execution_count": 21,
   "metadata": {},
   "outputs": [
    {
     "data": {
      "text/plain": [
       "LinearRegression(copy_X=True, fit_intercept=True, n_jobs=None, normalize=False)"
      ]
     },
     "execution_count": 21,
     "metadata": {},
     "output_type": "execute_result"
    }
   ],
   "source": [
    "# fitting Linear Regression\n",
    "reg = linear_model.LinearRegression()\n",
    "reg.fit(scaled_XTR, y_train)"
   ]
  },
  {
   "cell_type": "code",
   "execution_count": 22,
   "metadata": {},
   "outputs": [
    {
     "data": {
      "text/plain": [
       "0.7621031465717178"
      ]
     },
     "execution_count": 22,
     "metadata": {},
     "output_type": "execute_result"
    }
   ],
   "source": [
    "# Calculating R squared\n",
    "r_sq = reg.score(scaled_XTR,y_train)\n",
    "r_sq"
   ]
  },
  {
   "cell_type": "code",
   "execution_count": 23,
   "metadata": {},
   "outputs": [],
   "source": [
    "scaled_test= scaler.transform(X_test)"
   ]
  },
  {
   "cell_type": "code",
   "execution_count": 24,
   "metadata": {},
   "outputs": [
    {
     "data": {
      "text/html": [
       "<div>\n",
       "<style scoped>\n",
       "    .dataframe tbody tr th:only-of-type {\n",
       "        vertical-align: middle;\n",
       "    }\n",
       "\n",
       "    .dataframe tbody tr th {\n",
       "        vertical-align: top;\n",
       "    }\n",
       "\n",
       "    .dataframe thead th {\n",
       "        text-align: right;\n",
       "    }\n",
       "</style>\n",
       "<table border=\"1\" class=\"dataframe\">\n",
       "  <thead>\n",
       "    <tr style=\"text-align: right;\">\n",
       "      <th></th>\n",
       "      <th>age</th>\n",
       "      <th>sex</th>\n",
       "      <th>bmi</th>\n",
       "      <th>smoker</th>\n",
       "      <th>have_kids</th>\n",
       "      <th>region_northwest</th>\n",
       "      <th>region_southeast</th>\n",
       "      <th>region_southwest</th>\n",
       "    </tr>\n",
       "  </thead>\n",
       "  <tbody>\n",
       "    <tr>\n",
       "      <th>0</th>\n",
       "      <td>-0.754829</td>\n",
       "      <td>-0.981491</td>\n",
       "      <td>-1.691210</td>\n",
       "      <td>-0.514361</td>\n",
       "      <td>0.837419</td>\n",
       "      <td>1.691324</td>\n",
       "      <td>-0.612372</td>\n",
       "      <td>-0.579747</td>\n",
       "    </tr>\n",
       "    <tr>\n",
       "      <th>1</th>\n",
       "      <td>1.597266</td>\n",
       "      <td>1.018858</td>\n",
       "      <td>0.183683</td>\n",
       "      <td>1.944161</td>\n",
       "      <td>-1.194145</td>\n",
       "      <td>-0.591253</td>\n",
       "      <td>-0.612372</td>\n",
       "      <td>-0.579747</td>\n",
       "    </tr>\n",
       "    <tr>\n",
       "      <th>2</th>\n",
       "      <td>-1.538861</td>\n",
       "      <td>1.018858</td>\n",
       "      <td>-1.237607</td>\n",
       "      <td>-0.514361</td>\n",
       "      <td>-1.194145</td>\n",
       "      <td>-0.591253</td>\n",
       "      <td>-0.612372</td>\n",
       "      <td>-0.579747</td>\n",
       "    </tr>\n",
       "    <tr>\n",
       "      <th>3</th>\n",
       "      <td>-0.327176</td>\n",
       "      <td>1.018858</td>\n",
       "      <td>-2.069213</td>\n",
       "      <td>-0.514361</td>\n",
       "      <td>0.837419</td>\n",
       "      <td>1.691324</td>\n",
       "      <td>-0.612372</td>\n",
       "      <td>-0.579747</td>\n",
       "    </tr>\n",
       "    <tr>\n",
       "      <th>4</th>\n",
       "      <td>-0.255900</td>\n",
       "      <td>-0.981491</td>\n",
       "      <td>-0.149755</td>\n",
       "      <td>-0.514361</td>\n",
       "      <td>0.837419</td>\n",
       "      <td>-0.591253</td>\n",
       "      <td>1.632993</td>\n",
       "      <td>-0.579747</td>\n",
       "    </tr>\n",
       "  </tbody>\n",
       "</table>\n",
       "</div>"
      ],
      "text/plain": [
       "        age       sex       bmi    smoker  have_kids  region_northwest  \\\n",
       "0 -0.754829 -0.981491 -1.691210 -0.514361   0.837419          1.691324   \n",
       "1  1.597266  1.018858  0.183683  1.944161  -1.194145         -0.591253   \n",
       "2 -1.538861  1.018858 -1.237607 -0.514361  -1.194145         -0.591253   \n",
       "3 -0.327176  1.018858 -2.069213 -0.514361   0.837419          1.691324   \n",
       "4 -0.255900 -0.981491 -0.149755 -0.514361   0.837419         -0.591253   \n",
       "\n",
       "   region_southeast  region_southwest  \n",
       "0         -0.612372         -0.579747  \n",
       "1         -0.612372         -0.579747  \n",
       "2         -0.612372         -0.579747  \n",
       "3         -0.612372         -0.579747  \n",
       "4          1.632993         -0.579747  "
      ]
     },
     "execution_count": 24,
     "metadata": {},
     "output_type": "execute_result"
    }
   ],
   "source": [
    "# scalimg the test features\n",
    "scaled_XTS = pd.DataFrame(scaled_test,columns=X_test.columns[:])\n",
    "scaled_XTS.head()"
   ]
  },
  {
   "cell_type": "code",
   "execution_count": 25,
   "metadata": {},
   "outputs": [],
   "source": [
    "# predicting on train set for future calculations\n",
    "y_pred = reg.predict(scaled_XTS)"
   ]
  },
  {
   "cell_type": "code",
   "execution_count": 26,
   "metadata": {},
   "outputs": [],
   "source": [
    "# OLS regression model from statsmodels\n",
    "Sreg = sm.OLS(y_train,X_train).fit()"
   ]
  },
  {
   "cell_type": "code",
   "execution_count": 27,
   "metadata": {},
   "outputs": [
    {
     "data": {
      "text/html": [
       "<table class=\"simpletable\">\n",
       "<caption>OLS Regression Results</caption>\n",
       "<tr>\n",
       "  <th>Dep. Variable:</th>            <td>y</td>        <th>  R-squared:         </th> <td>   0.879</td> \n",
       "</tr>\n",
       "<tr>\n",
       "  <th>Model:</th>                   <td>OLS</td>       <th>  Adj. R-squared:    </th> <td>   0.878</td> \n",
       "</tr>\n",
       "<tr>\n",
       "  <th>Method:</th>             <td>Least Squares</td>  <th>  F-statistic:       </th> <td>   720.3</td> \n",
       "</tr>\n",
       "<tr>\n",
       "  <th>Date:</th>             <td>Thu, 13 Jun 2019</td> <th>  Prob (F-statistic):</th>  <td>  0.00</td>  \n",
       "</tr>\n",
       "<tr>\n",
       "  <th>Time:</th>                 <td>15:40:55</td>     <th>  Log-Likelihood:    </th> <td> -8175.7</td> \n",
       "</tr>\n",
       "<tr>\n",
       "  <th>No. Observations:</th>      <td>   803</td>      <th>  AIC:               </th> <td>1.637e+04</td>\n",
       "</tr>\n",
       "<tr>\n",
       "  <th>Df Residuals:</th>          <td>   795</td>      <th>  BIC:               </th> <td>1.640e+04</td>\n",
       "</tr>\n",
       "<tr>\n",
       "  <th>Df Model:</th>              <td>     8</td>      <th>                     </th>     <td> </td>    \n",
       "</tr>\n",
       "<tr>\n",
       "  <th>Covariance Type:</th>      <td>nonrobust</td>    <th>                     </th>     <td> </td>    \n",
       "</tr>\n",
       "</table>\n",
       "<table class=\"simpletable\">\n",
       "<tr>\n",
       "          <td></td>            <th>coef</th>     <th>std err</th>      <th>t</th>      <th>P>|t|</th>  <th>[0.025</th>    <th>0.975]</th>  \n",
       "</tr>\n",
       "<tr>\n",
       "  <th>age</th>              <td>  216.6522</td> <td>   15.115</td> <td>   14.333</td> <td> 0.000</td> <td>  186.981</td> <td>  246.323</td>\n",
       "</tr>\n",
       "<tr>\n",
       "  <th>sex</th>              <td> -636.0421</td> <td>  454.274</td> <td>   -1.400</td> <td> 0.162</td> <td>-1527.761</td> <td>  255.677</td>\n",
       "</tr>\n",
       "<tr>\n",
       "  <th>bmi</th>              <td>   51.7412</td> <td>   25.087</td> <td>    2.062</td> <td> 0.039</td> <td>    2.497</td> <td>  100.985</td>\n",
       "</tr>\n",
       "<tr>\n",
       "  <th>smoker</th>           <td>  2.39e+04</td> <td>  557.559</td> <td>   42.868</td> <td> 0.000</td> <td> 2.28e+04</td> <td>  2.5e+04</td>\n",
       "</tr>\n",
       "<tr>\n",
       "  <th>have_kids</th>        <td>  288.1213</td> <td>  453.628</td> <td>    0.635</td> <td> 0.526</td> <td> -602.329</td> <td> 1178.572</td>\n",
       "</tr>\n",
       "<tr>\n",
       "  <th>region_northwest</th> <td>-1605.3633</td> <td>  638.566</td> <td>   -2.514</td> <td> 0.012</td> <td>-2858.839</td> <td> -351.888</td>\n",
       "</tr>\n",
       "<tr>\n",
       "  <th>region_southeast</th> <td>-1097.1891</td> <td>  674.486</td> <td>   -1.627</td> <td> 0.104</td> <td>-2421.173</td> <td>  226.794</td>\n",
       "</tr>\n",
       "<tr>\n",
       "  <th>region_southwest</th> <td>-1754.3074</td> <td>  657.473</td> <td>   -2.668</td> <td> 0.008</td> <td>-3044.896</td> <td> -463.718</td>\n",
       "</tr>\n",
       "</table>\n",
       "<table class=\"simpletable\">\n",
       "<tr>\n",
       "  <th>Omnibus:</th>       <td>148.915</td> <th>  Durbin-Watson:     </th> <td>   1.930</td>\n",
       "</tr>\n",
       "<tr>\n",
       "  <th>Prob(Omnibus):</th> <td> 0.000</td>  <th>  Jarque-Bera (JB):  </th> <td> 326.288</td>\n",
       "</tr>\n",
       "<tr>\n",
       "  <th>Skew:</th>          <td> 1.019</td>  <th>  Prob(JB):          </th> <td>1.40e-71</td>\n",
       "</tr>\n",
       "<tr>\n",
       "  <th>Kurtosis:</th>      <td> 5.365</td>  <th>  Cond. No.          </th> <td>    216.</td>\n",
       "</tr>\n",
       "</table><br/><br/>Warnings:<br/>[1] Standard Errors assume that the covariance matrix of the errors is correctly specified."
      ],
      "text/plain": [
       "<class 'statsmodels.iolib.summary.Summary'>\n",
       "\"\"\"\n",
       "                            OLS Regression Results                            \n",
       "==============================================================================\n",
       "Dep. Variable:                      y   R-squared:                       0.879\n",
       "Model:                            OLS   Adj. R-squared:                  0.878\n",
       "Method:                 Least Squares   F-statistic:                     720.3\n",
       "Date:                Thu, 13 Jun 2019   Prob (F-statistic):               0.00\n",
       "Time:                        15:40:55   Log-Likelihood:                -8175.7\n",
       "No. Observations:                 803   AIC:                         1.637e+04\n",
       "Df Residuals:                     795   BIC:                         1.640e+04\n",
       "Df Model:                           8                                         \n",
       "Covariance Type:            nonrobust                                         \n",
       "====================================================================================\n",
       "                       coef    std err          t      P>|t|      [0.025      0.975]\n",
       "------------------------------------------------------------------------------------\n",
       "age                216.6522     15.115     14.333      0.000     186.981     246.323\n",
       "sex               -636.0421    454.274     -1.400      0.162   -1527.761     255.677\n",
       "bmi                 51.7412     25.087      2.062      0.039       2.497     100.985\n",
       "smoker             2.39e+04    557.559     42.868      0.000    2.28e+04     2.5e+04\n",
       "have_kids          288.1213    453.628      0.635      0.526    -602.329    1178.572\n",
       "region_northwest -1605.3633    638.566     -2.514      0.012   -2858.839    -351.888\n",
       "region_southeast -1097.1891    674.486     -1.627      0.104   -2421.173     226.794\n",
       "region_southwest -1754.3074    657.473     -2.668      0.008   -3044.896    -463.718\n",
       "==============================================================================\n",
       "Omnibus:                      148.915   Durbin-Watson:                   1.930\n",
       "Prob(Omnibus):                  0.000   Jarque-Bera (JB):              326.288\n",
       "Skew:                           1.019   Prob(JB):                     1.40e-71\n",
       "Kurtosis:                       5.365   Cond. No.                         216.\n",
       "==============================================================================\n",
       "\n",
       "Warnings:\n",
       "[1] Standard Errors assume that the covariance matrix of the errors is correctly specified.\n",
       "\"\"\""
      ]
     },
     "execution_count": 27,
     "metadata": {},
     "output_type": "execute_result"
    }
   ],
   "source": [
    "Sreg.summary()"
   ]
  },
  {
   "cell_type": "markdown",
   "metadata": {},
   "source": [
    "**I used the OLS model to just get the p-values of the features(X), as we can see the features with p-value of lower than 0.05 have strong significant effect on the dependent variable('charges')**\n",
    "\n",
    "And from the p -values we can say that:\n",
    "\n",
    "1. Sex of the person does not affect the medical cost\n",
    "2. Being a smoker surely affects the medical cost\n",
    "3. For every year increase in age the charges increses by $216.65"
   ]
  },
  {
   "cell_type": "markdown",
   "metadata": {},
   "source": [
    "### 8. What are some of the limitations of the model(s) that you built?"
   ]
  },
  {
   "cell_type": "code",
   "execution_count": 28,
   "metadata": {},
   "outputs": [
    {
     "data": {
      "text/plain": [
       "4.203502423799255"
      ]
     },
     "execution_count": 28,
     "metadata": {},
     "output_type": "execute_result"
    }
   ],
   "source": [
    "#Variance Inflation Factor\n",
    "VIF = 1 / (1-r_sq)\n",
    "VIF"
   ]
  },
  {
   "cell_type": "markdown",
   "metadata": {},
   "source": [
    "As we can see VIF > 4, there is some multicollinearity in our model, and it violates the assumption of absence of multicollinearity in linear regression. {answer to question 6.}"
   ]
  },
  {
   "cell_type": "code",
   "execution_count": 29,
   "metadata": {},
   "outputs": [
    {
     "data": {
      "text/plain": [
       "<matplotlib.collections.PathCollection at 0x1c1d428d30>"
      ]
     },
     "execution_count": 29,
     "metadata": {},
     "output_type": "execute_result"
    },
    {
     "data": {
      "image/png": "[encoded data removed]",
      "text/plain": [
       "<Figure size 432x288 with 1 Axes>"
      ]
     },
     "metadata": {
      "needs_background": "light"
     },
     "output_type": "display_data"
    }
   ],
   "source": [
    "# Calculating the residuals\n",
    "resi = y_test - y_pred\n",
    "plt.scatter(y_pred,resi)"
   ]
  },
  {
   "cell_type": "markdown",
   "metadata": {},
   "source": [
    "As we can see from the plot there is no correlation between the residual term, thus fulfilling the assumption of absence of Autocorrelation in linear regression."
   ]
  },
  {
   "cell_type": "code",
   "execution_count": 30,
   "metadata": {},
   "outputs": [
    {
     "data": {
      "image/png": "[encoded data removed]",
      "text/plain": [
       "<Figure size 432x288 with 1 Axes>"
      ]
     },
     "metadata": {
      "needs_background": "light"
     },
     "output_type": "display_data"
    }
   ],
   "source": [
    "_ = plt.hist(resi)"
   ]
  },
  {
   "cell_type": "markdown",
   "metadata": {},
   "source": [
    "As we can see from the graph that the residuals are not perfectly normally distributed, thus violating one of the assumption of linear regression."
   ]
  },
  {
   "cell_type": "code",
   "execution_count": 31,
   "metadata": {},
   "outputs": [],
   "source": [
    "from sklearn.linear_model import Lasso\n"
   ]
  },
  {
   "cell_type": "code",
   "execution_count": 32,
   "metadata": {},
   "outputs": [
    {
     "data": {
      "image/png": "[encoded data removed]",
      "text/plain": [
       "<Figure size 576x432 with 1 Axes>"
      ]
     },
     "metadata": {
      "needs_background": "light"
     },
     "output_type": "display_data"
    }
   ],
   "source": [
    "names = df1.drop(['charges'], axis=1).columns\n",
    "\n",
    "lasso = Lasso(alpha=0.1)\n",
    "\n",
    "plt.figure(figsize=(8,6))\n",
    "\n",
    "lasso_coef = lasso.fit(X,y).coef_\n",
    "plt.plot(range(len(names)), lasso_coef)\n",
    "plt.xticks(range(len(names)), names)\n",
    "plt.ylabel(\"Coefficients\")\n",
    "\n",
    "plt.show()"
   ]
  },
  {
   "cell_type": "markdown",
   "metadata": {},
   "source": [
    "The graph tells us that \"smoker\" is the most important feature of our model"
   ]
  },
  {
   "cell_type": "markdown",
   "metadata": {},
   "source": [
    "### 9. If a hospital was looking to minimize its cost, what population should it target based on your analysis?"
   ]
  },
  {
   "cell_type": "code",
   "execution_count": 33,
   "metadata": {},
   "outputs": [],
   "source": [
    "ages = pd.DataFrame(df['age'], columns=['age'])"
   ]
  },
  {
   "cell_type": "code",
   "execution_count": 34,
   "metadata": {},
   "outputs": [],
   "source": [
    "bins = [18, 30, 40, 50, 60, 70]\n",
    "labels = ['18-30', '31-40', '41-50', '51-60', '61+']       "
   ]
  },
  {
   "cell_type": "code",
   "execution_count": 35,
   "metadata": {},
   "outputs": [],
   "source": [
    "ages['agerange'] = pd.cut(ages.age, bins, labels = labels,include_lowest = True)"
   ]
  },
  {
   "cell_type": "code",
   "execution_count": 36,
   "metadata": {},
   "outputs": [
    {
     "data": {
      "text/html": [
       "<div>\n",
       "<style scoped>\n",
       "    .dataframe tbody tr th:only-of-type {\n",
       "        vertical-align: middle;\n",
       "    }\n",
       "\n",
       "    .dataframe tbody tr th {\n",
       "        vertical-align: top;\n",
       "    }\n",
       "\n",
       "    .dataframe thead th {\n",
       "        text-align: right;\n",
       "    }\n",
       "</style>\n",
       "<table border=\"1\" class=\"dataframe\">\n",
       "  <thead>\n",
       "    <tr style=\"text-align: right;\">\n",
       "      <th></th>\n",
       "      <th>age</th>\n",
       "      <th>agerange</th>\n",
       "    </tr>\n",
       "  </thead>\n",
       "  <tbody>\n",
       "    <tr>\n",
       "      <th>0</th>\n",
       "      <td>45</td>\n",
       "      <td>41-50</td>\n",
       "    </tr>\n",
       "    <tr>\n",
       "      <th>1</th>\n",
       "      <td>36</td>\n",
       "      <td>31-40</td>\n",
       "    </tr>\n",
       "    <tr>\n",
       "      <th>2</th>\n",
       "      <td>64</td>\n",
       "      <td>61+</td>\n",
       "    </tr>\n",
       "    <tr>\n",
       "      <th>3</th>\n",
       "      <td>46</td>\n",
       "      <td>41-50</td>\n",
       "    </tr>\n",
       "    <tr>\n",
       "      <th>4</th>\n",
       "      <td>19</td>\n",
       "      <td>18-30</td>\n",
       "    </tr>\n",
       "  </tbody>\n",
       "</table>\n",
       "</div>"
      ],
      "text/plain": [
       "   age agerange\n",
       "0   45    41-50\n",
       "1   36    31-40\n",
       "2   64      61+\n",
       "3   46    41-50\n",
       "4   19    18-30"
      ]
     },
     "execution_count": 36,
     "metadata": {},
     "output_type": "execute_result"
    }
   ],
   "source": [
    "ages.head()"
   ]
  },
  {
   "cell_type": "code",
   "execution_count": 37,
   "metadata": {},
   "outputs": [],
   "source": [
    "df['age_range'] = (ages['agerange'])"
   ]
  },
  {
   "cell_type": "code",
   "execution_count": 38,
   "metadata": {},
   "outputs": [],
   "source": [
    "bmis = pd.DataFrame(df['bmi'], columns=['bmi'])"
   ]
  },
  {
   "cell_type": "code",
   "execution_count": 39,
   "metadata": {},
   "outputs": [],
   "source": [
    "bins_bmi = [15, 20, 30, 40, 50, 60]\n",
    "labels_bmi = ['15-19', '20-29', '30-39', '40-49', '50+'] "
   ]
  },
  {
   "cell_type": "code",
   "execution_count": 40,
   "metadata": {},
   "outputs": [],
   "source": [
    "bmis['bmi_range'] = pd.cut(bmis.bmi, bins_bmi, labels = labels_bmi,include_lowest = True)"
   ]
  },
  {
   "cell_type": "code",
   "execution_count": 41,
   "metadata": {},
   "outputs": [
    {
     "data": {
      "text/html": [
       "<div>\n",
       "<style scoped>\n",
       "    .dataframe tbody tr th:only-of-type {\n",
       "        vertical-align: middle;\n",
       "    }\n",
       "\n",
       "    .dataframe tbody tr th {\n",
       "        vertical-align: top;\n",
       "    }\n",
       "\n",
       "    .dataframe thead th {\n",
       "        text-align: right;\n",
       "    }\n",
       "</style>\n",
       "<table border=\"1\" class=\"dataframe\">\n",
       "  <thead>\n",
       "    <tr style=\"text-align: right;\">\n",
       "      <th></th>\n",
       "      <th>bmi</th>\n",
       "      <th>bmi_range</th>\n",
       "    </tr>\n",
       "  </thead>\n",
       "  <tbody>\n",
       "    <tr>\n",
       "      <th>0</th>\n",
       "      <td>25.175</td>\n",
       "      <td>20-29</td>\n",
       "    </tr>\n",
       "    <tr>\n",
       "      <th>1</th>\n",
       "      <td>30.020</td>\n",
       "      <td>30-39</td>\n",
       "    </tr>\n",
       "    <tr>\n",
       "      <th>2</th>\n",
       "      <td>26.885</td>\n",
       "      <td>20-29</td>\n",
       "    </tr>\n",
       "    <tr>\n",
       "      <th>3</th>\n",
       "      <td>25.745</td>\n",
       "      <td>20-29</td>\n",
       "    </tr>\n",
       "    <tr>\n",
       "      <th>4</th>\n",
       "      <td>31.920</td>\n",
       "      <td>30-39</td>\n",
       "    </tr>\n",
       "  </tbody>\n",
       "</table>\n",
       "</div>"
      ],
      "text/plain": [
       "      bmi bmi_range\n",
       "0  25.175     20-29\n",
       "1  30.020     30-39\n",
       "2  26.885     20-29\n",
       "3  25.745     20-29\n",
       "4  31.920     30-39"
      ]
     },
     "execution_count": 41,
     "metadata": {},
     "output_type": "execute_result"
    }
   ],
   "source": [
    "bmis.head()"
   ]
  },
  {
   "cell_type": "code",
   "execution_count": 42,
   "metadata": {},
   "outputs": [],
   "source": [
    "df['bmi_range'] = (bmis['bmi_range'])"
   ]
  },
  {
   "cell_type": "code",
   "execution_count": 43,
   "metadata": {},
   "outputs": [
    {
     "data": {
      "text/html": [
       "<div>\n",
       "<style scoped>\n",
       "    .dataframe tbody tr th:only-of-type {\n",
       "        vertical-align: middle;\n",
       "    }\n",
       "\n",
       "    .dataframe tbody tr th {\n",
       "        vertical-align: top;\n",
       "    }\n",
       "\n",
       "    .dataframe thead th {\n",
       "        text-align: right;\n",
       "    }\n",
       "</style>\n",
       "<table border=\"1\" class=\"dataframe\">\n",
       "  <thead>\n",
       "    <tr style=\"text-align: right;\">\n",
       "      <th></th>\n",
       "      <th>age</th>\n",
       "      <th>sex</th>\n",
       "      <th>bmi</th>\n",
       "      <th>smoker</th>\n",
       "      <th>region</th>\n",
       "      <th>charges</th>\n",
       "      <th>have_kids</th>\n",
       "      <th>age_range</th>\n",
       "      <th>bmi_range</th>\n",
       "    </tr>\n",
       "  </thead>\n",
       "  <tbody>\n",
       "    <tr>\n",
       "      <th>0</th>\n",
       "      <td>45</td>\n",
       "      <td>0</td>\n",
       "      <td>25.175</td>\n",
       "      <td>0</td>\n",
       "      <td>northeast</td>\n",
       "      <td>9095.06825</td>\n",
       "      <td>1</td>\n",
       "      <td>41-50</td>\n",
       "      <td>20-29</td>\n",
       "    </tr>\n",
       "    <tr>\n",
       "      <th>1</th>\n",
       "      <td>36</td>\n",
       "      <td>0</td>\n",
       "      <td>30.020</td>\n",
       "      <td>0</td>\n",
       "      <td>northwest</td>\n",
       "      <td>5272.17580</td>\n",
       "      <td>0</td>\n",
       "      <td>31-40</td>\n",
       "      <td>30-39</td>\n",
       "    </tr>\n",
       "    <tr>\n",
       "      <th>2</th>\n",
       "      <td>64</td>\n",
       "      <td>0</td>\n",
       "      <td>26.885</td>\n",
       "      <td>1</td>\n",
       "      <td>northwest</td>\n",
       "      <td>29330.98315</td>\n",
       "      <td>0</td>\n",
       "      <td>61+</td>\n",
       "      <td>20-29</td>\n",
       "    </tr>\n",
       "    <tr>\n",
       "      <th>3</th>\n",
       "      <td>46</td>\n",
       "      <td>1</td>\n",
       "      <td>25.745</td>\n",
       "      <td>0</td>\n",
       "      <td>northwest</td>\n",
       "      <td>9301.89355</td>\n",
       "      <td>1</td>\n",
       "      <td>41-50</td>\n",
       "      <td>20-29</td>\n",
       "    </tr>\n",
       "    <tr>\n",
       "      <th>4</th>\n",
       "      <td>19</td>\n",
       "      <td>1</td>\n",
       "      <td>31.920</td>\n",
       "      <td>1</td>\n",
       "      <td>northwest</td>\n",
       "      <td>33750.29180</td>\n",
       "      <td>0</td>\n",
       "      <td>18-30</td>\n",
       "      <td>30-39</td>\n",
       "    </tr>\n",
       "    <tr>\n",
       "      <th>5</th>\n",
       "      <td>34</td>\n",
       "      <td>1</td>\n",
       "      <td>42.900</td>\n",
       "      <td>0</td>\n",
       "      <td>southwest</td>\n",
       "      <td>4536.25900</td>\n",
       "      <td>1</td>\n",
       "      <td>31-40</td>\n",
       "      <td>40-49</td>\n",
       "    </tr>\n",
       "    <tr>\n",
       "      <th>6</th>\n",
       "      <td>19</td>\n",
       "      <td>0</td>\n",
       "      <td>22.515</td>\n",
       "      <td>0</td>\n",
       "      <td>northwest</td>\n",
       "      <td>2117.33885</td>\n",
       "      <td>0</td>\n",
       "      <td>18-30</td>\n",
       "      <td>20-29</td>\n",
       "    </tr>\n",
       "    <tr>\n",
       "      <th>7</th>\n",
       "      <td>64</td>\n",
       "      <td>1</td>\n",
       "      <td>37.905</td>\n",
       "      <td>0</td>\n",
       "      <td>northwest</td>\n",
       "      <td>14210.53595</td>\n",
       "      <td>0</td>\n",
       "      <td>61+</td>\n",
       "      <td>30-39</td>\n",
       "    </tr>\n",
       "    <tr>\n",
       "      <th>8</th>\n",
       "      <td>28</td>\n",
       "      <td>0</td>\n",
       "      <td>17.290</td>\n",
       "      <td>0</td>\n",
       "      <td>northeast</td>\n",
       "      <td>3732.62510</td>\n",
       "      <td>0</td>\n",
       "      <td>18-30</td>\n",
       "      <td>15-19</td>\n",
       "    </tr>\n",
       "    <tr>\n",
       "      <th>9</th>\n",
       "      <td>49</td>\n",
       "      <td>1</td>\n",
       "      <td>28.690</td>\n",
       "      <td>0</td>\n",
       "      <td>northwest</td>\n",
       "      <td>10264.44210</td>\n",
       "      <td>1</td>\n",
       "      <td>41-50</td>\n",
       "      <td>20-29</td>\n",
       "    </tr>\n",
       "    <tr>\n",
       "      <th>10</th>\n",
       "      <td>30</td>\n",
       "      <td>1</td>\n",
       "      <td>24.400</td>\n",
       "      <td>1</td>\n",
       "      <td>southwest</td>\n",
       "      <td>18259.21600</td>\n",
       "      <td>1</td>\n",
       "      <td>18-30</td>\n",
       "      <td>20-29</td>\n",
       "    </tr>\n",
       "    <tr>\n",
       "      <th>11</th>\n",
       "      <td>41</td>\n",
       "      <td>1</td>\n",
       "      <td>30.590</td>\n",
       "      <td>0</td>\n",
       "      <td>northwest</td>\n",
       "      <td>7256.72310</td>\n",
       "      <td>1</td>\n",
       "      <td>41-50</td>\n",
       "      <td>30-39</td>\n",
       "    </tr>\n",
       "    <tr>\n",
       "      <th>12</th>\n",
       "      <td>29</td>\n",
       "      <td>0</td>\n",
       "      <td>29.590</td>\n",
       "      <td>0</td>\n",
       "      <td>southeast</td>\n",
       "      <td>3947.41310</td>\n",
       "      <td>1</td>\n",
       "      <td>18-30</td>\n",
       "      <td>20-29</td>\n",
       "    </tr>\n",
       "    <tr>\n",
       "      <th>13</th>\n",
       "      <td>46</td>\n",
       "      <td>1</td>\n",
       "      <td>42.350</td>\n",
       "      <td>1</td>\n",
       "      <td>southeast</td>\n",
       "      <td>46151.12450</td>\n",
       "      <td>1</td>\n",
       "      <td>41-50</td>\n",
       "      <td>40-49</td>\n",
       "    </tr>\n",
       "    <tr>\n",
       "      <th>14</th>\n",
       "      <td>60</td>\n",
       "      <td>1</td>\n",
       "      <td>40.920</td>\n",
       "      <td>1</td>\n",
       "      <td>southeast</td>\n",
       "      <td>48673.55880</td>\n",
       "      <td>0</td>\n",
       "      <td>51-60</td>\n",
       "      <td>40-49</td>\n",
       "    </tr>\n",
       "    <tr>\n",
       "      <th>15</th>\n",
       "      <td>47</td>\n",
       "      <td>1</td>\n",
       "      <td>38.940</td>\n",
       "      <td>1</td>\n",
       "      <td>southeast</td>\n",
       "      <td>44202.65360</td>\n",
       "      <td>1</td>\n",
       "      <td>41-50</td>\n",
       "      <td>30-39</td>\n",
       "    </tr>\n",
       "    <tr>\n",
       "      <th>16</th>\n",
       "      <td>49</td>\n",
       "      <td>0</td>\n",
       "      <td>42.680</td>\n",
       "      <td>0</td>\n",
       "      <td>southeast</td>\n",
       "      <td>9800.88820</td>\n",
       "      <td>1</td>\n",
       "      <td>41-50</td>\n",
       "      <td>40-49</td>\n",
       "    </tr>\n",
       "    <tr>\n",
       "      <th>17</th>\n",
       "      <td>47</td>\n",
       "      <td>0</td>\n",
       "      <td>36.630</td>\n",
       "      <td>1</td>\n",
       "      <td>southeast</td>\n",
       "      <td>42969.85270</td>\n",
       "      <td>1</td>\n",
       "      <td>41-50</td>\n",
       "      <td>30-39</td>\n",
       "    </tr>\n",
       "    <tr>\n",
       "      <th>18</th>\n",
       "      <td>46</td>\n",
       "      <td>0</td>\n",
       "      <td>28.050</td>\n",
       "      <td>0</td>\n",
       "      <td>southeast</td>\n",
       "      <td>8233.09750</td>\n",
       "      <td>1</td>\n",
       "      <td>41-50</td>\n",
       "      <td>20-29</td>\n",
       "    </tr>\n",
       "    <tr>\n",
       "      <th>19</th>\n",
       "      <td>43</td>\n",
       "      <td>0</td>\n",
       "      <td>26.885</td>\n",
       "      <td>1</td>\n",
       "      <td>northwest</td>\n",
       "      <td>21774.32215</td>\n",
       "      <td>0</td>\n",
       "      <td>41-50</td>\n",
       "      <td>20-29</td>\n",
       "    </tr>\n",
       "  </tbody>\n",
       "</table>\n",
       "</div>"
      ],
      "text/plain": [
       "    age  sex     bmi  smoker     region      charges  have_kids age_range  \\\n",
       "0    45    0  25.175       0  northeast   9095.06825          1     41-50   \n",
       "1    36    0  30.020       0  northwest   5272.17580          0     31-40   \n",
       "2    64    0  26.885       1  northwest  29330.98315          0       61+   \n",
       "3    46    1  25.745       0  northwest   9301.89355          1     41-50   \n",
       "4    19    1  31.920       1  northwest  33750.29180          0     18-30   \n",
       "5    34    1  42.900       0  southwest   4536.25900          1     31-40   \n",
       "6    19    0  22.515       0  northwest   2117.33885          0     18-30   \n",
       "7    64    1  37.905       0  northwest  14210.53595          0       61+   \n",
       "8    28    0  17.290       0  northeast   3732.62510          0     18-30   \n",
       "9    49    1  28.690       0  northwest  10264.44210          1     41-50   \n",
       "10   30    1  24.400       1  southwest  18259.21600          1     18-30   \n",
       "11   41    1  30.590       0  northwest   7256.72310          1     41-50   \n",
       "12   29    0  29.590       0  southeast   3947.41310          1     18-30   \n",
       "13   46    1  42.350       1  southeast  46151.12450          1     41-50   \n",
       "14   60    1  40.920       1  southeast  48673.55880          0     51-60   \n",
       "15   47    1  38.940       1  southeast  44202.65360          1     41-50   \n",
       "16   49    0  42.680       0  southeast   9800.88820          1     41-50   \n",
       "17   47    0  36.630       1  southeast  42969.85270          1     41-50   \n",
       "18   46    0  28.050       0  southeast   8233.09750          1     41-50   \n",
       "19   43    0  26.885       1  northwest  21774.32215          0     41-50   \n",
       "\n",
       "   bmi_range  \n",
       "0      20-29  \n",
       "1      30-39  \n",
       "2      20-29  \n",
       "3      20-29  \n",
       "4      30-39  \n",
       "5      40-49  \n",
       "6      20-29  \n",
       "7      30-39  \n",
       "8      15-19  \n",
       "9      20-29  \n",
       "10     20-29  \n",
       "11     30-39  \n",
       "12     20-29  \n",
       "13     40-49  \n",
       "14     40-49  \n",
       "15     30-39  \n",
       "16     40-49  \n",
       "17     30-39  \n",
       "18     20-29  \n",
       "19     20-29  "
      ]
     },
     "execution_count": 43,
     "metadata": {},
     "output_type": "execute_result"
    }
   ],
   "source": [
    "df.head(20)"
   ]
  },
  {
   "cell_type": "code",
   "execution_count": 44,
   "metadata": {},
   "outputs": [],
   "source": [
    "target_pop = df.groupby(['age_range','bmi_range','smoker'])['charges'].mean()\n",
    "target_pop = pd.DataFrame(target_pop)"
   ]
  },
  {
   "cell_type": "code",
   "execution_count": 45,
   "metadata": {},
   "outputs": [
    {
     "data": {
      "text/html": [
       "<div>\n",
       "<style scoped>\n",
       "    .dataframe tbody tr th:only-of-type {\n",
       "        vertical-align: middle;\n",
       "    }\n",
       "\n",
       "    .dataframe tbody tr th {\n",
       "        vertical-align: top;\n",
       "    }\n",
       "\n",
       "    .dataframe thead th {\n",
       "        text-align: right;\n",
       "    }\n",
       "</style>\n",
       "<table border=\"1\" class=\"dataframe\">\n",
       "  <thead>\n",
       "    <tr style=\"text-align: right;\">\n",
       "      <th></th>\n",
       "      <th></th>\n",
       "      <th></th>\n",
       "      <th>charges</th>\n",
       "    </tr>\n",
       "    <tr>\n",
       "      <th>age_range</th>\n",
       "      <th>bmi_range</th>\n",
       "      <th>smoker</th>\n",
       "      <th></th>\n",
       "    </tr>\n",
       "  </thead>\n",
       "  <tbody>\n",
       "    <tr>\n",
       "      <th rowspan=\"5\" valign=\"top\">18-30</th>\n",
       "      <th rowspan=\"2\" valign=\"top\">15-19</th>\n",
       "      <th>0</th>\n",
       "      <td>4465.159918</td>\n",
       "    </tr>\n",
       "    <tr>\n",
       "      <th>1</th>\n",
       "      <td>14097.226200</td>\n",
       "    </tr>\n",
       "    <tr>\n",
       "      <th rowspan=\"2\" valign=\"top\">20-29</th>\n",
       "      <th>0</th>\n",
       "      <td>4312.694089</td>\n",
       "    </tr>\n",
       "    <tr>\n",
       "      <th>1</th>\n",
       "      <td>17432.228992</td>\n",
       "    </tr>\n",
       "    <tr>\n",
       "      <th>30-39</th>\n",
       "      <th>0</th>\n",
       "      <td>4700.572922</td>\n",
       "    </tr>\n",
       "  </tbody>\n",
       "</table>\n",
       "</div>"
      ],
      "text/plain": [
       "                                 charges\n",
       "age_range bmi_range smoker              \n",
       "18-30     15-19     0        4465.159918\n",
       "                    1       14097.226200\n",
       "          20-29     0        4312.694089\n",
       "                    1       17432.228992\n",
       "          30-39     0        4700.572922"
      ]
     },
     "execution_count": 45,
     "metadata": {},
     "output_type": "execute_result"
    }
   ],
   "source": [
    "target_pop.head()"
   ]
  },
  {
   "cell_type": "code",
   "execution_count": 46,
   "metadata": {},
   "outputs": [],
   "source": [
    " target_pop.reset_index(level=0, inplace = True)"
   ]
  },
  {
   "cell_type": "code",
   "execution_count": 47,
   "metadata": {},
   "outputs": [],
   "source": [
    " target_pop.reset_index(level=0, inplace = True)"
   ]
  },
  {
   "cell_type": "code",
   "execution_count": 48,
   "metadata": {},
   "outputs": [],
   "source": [
    " target_pop.reset_index(level=0, inplace = True)"
   ]
  },
  {
   "cell_type": "code",
   "execution_count": 49,
   "metadata": {},
   "outputs": [],
   "source": [
    "target_pop = target_pop.sort_values('charges')"
   ]
  },
  {
   "cell_type": "code",
   "execution_count": 50,
   "metadata": {},
   "outputs": [
    {
     "data": {
      "text/html": [
       "<div>\n",
       "<style scoped>\n",
       "    .dataframe tbody tr th:only-of-type {\n",
       "        vertical-align: middle;\n",
       "    }\n",
       "\n",
       "    .dataframe tbody tr th {\n",
       "        vertical-align: top;\n",
       "    }\n",
       "\n",
       "    .dataframe thead th {\n",
       "        text-align: right;\n",
       "    }\n",
       "</style>\n",
       "<table border=\"1\" class=\"dataframe\">\n",
       "  <thead>\n",
       "    <tr style=\"text-align: right;\">\n",
       "      <th></th>\n",
       "      <th>smoker</th>\n",
       "      <th>bmi_range</th>\n",
       "      <th>age_range</th>\n",
       "      <th>charges</th>\n",
       "    </tr>\n",
       "  </thead>\n",
       "  <tbody>\n",
       "    <tr>\n",
       "      <th>8</th>\n",
       "      <td>0</td>\n",
       "      <td>50+</td>\n",
       "      <td>18-30</td>\n",
       "      <td>1800.758950</td>\n",
       "    </tr>\n",
       "    <tr>\n",
       "      <th>6</th>\n",
       "      <td>0</td>\n",
       "      <td>40-49</td>\n",
       "      <td>18-30</td>\n",
       "      <td>3605.178305</td>\n",
       "    </tr>\n",
       "    <tr>\n",
       "      <th>2</th>\n",
       "      <td>0</td>\n",
       "      <td>20-29</td>\n",
       "      <td>18-30</td>\n",
       "      <td>4312.694089</td>\n",
       "    </tr>\n",
       "    <tr>\n",
       "      <th>0</th>\n",
       "      <td>0</td>\n",
       "      <td>15-19</td>\n",
       "      <td>18-30</td>\n",
       "      <td>4465.159918</td>\n",
       "    </tr>\n",
       "    <tr>\n",
       "      <th>4</th>\n",
       "      <td>0</td>\n",
       "      <td>30-39</td>\n",
       "      <td>18-30</td>\n",
       "      <td>4700.572922</td>\n",
       "    </tr>\n",
       "    <tr>\n",
       "      <th>10</th>\n",
       "      <td>0</td>\n",
       "      <td>15-19</td>\n",
       "      <td>31-40</td>\n",
       "      <td>6470.355250</td>\n",
       "    </tr>\n",
       "    <tr>\n",
       "      <th>12</th>\n",
       "      <td>0</td>\n",
       "      <td>20-29</td>\n",
       "      <td>31-40</td>\n",
       "      <td>6624.380177</td>\n",
       "    </tr>\n",
       "    <tr>\n",
       "      <th>14</th>\n",
       "      <td>0</td>\n",
       "      <td>30-39</td>\n",
       "      <td>31-40</td>\n",
       "      <td>6651.465885</td>\n",
       "    </tr>\n",
       "    <tr>\n",
       "      <th>16</th>\n",
       "      <td>0</td>\n",
       "      <td>40-49</td>\n",
       "      <td>31-40</td>\n",
       "      <td>7040.778786</td>\n",
       "    </tr>\n",
       "    <tr>\n",
       "      <th>18</th>\n",
       "      <td>0</td>\n",
       "      <td>15-19</td>\n",
       "      <td>41-50</td>\n",
       "      <td>8444.038838</td>\n",
       "    </tr>\n",
       "    <tr>\n",
       "      <th>21</th>\n",
       "      <td>0</td>\n",
       "      <td>30-39</td>\n",
       "      <td>41-50</td>\n",
       "      <td>9048.353544</td>\n",
       "    </tr>\n",
       "    <tr>\n",
       "      <th>23</th>\n",
       "      <td>0</td>\n",
       "      <td>40-49</td>\n",
       "      <td>41-50</td>\n",
       "      <td>9099.679382</td>\n",
       "    </tr>\n",
       "    <tr>\n",
       "      <th>19</th>\n",
       "      <td>0</td>\n",
       "      <td>20-29</td>\n",
       "      <td>41-50</td>\n",
       "      <td>9978.231823</td>\n",
       "    </tr>\n",
       "    <tr>\n",
       "      <th>25</th>\n",
       "      <td>0</td>\n",
       "      <td>15-19</td>\n",
       "      <td>51-60</td>\n",
       "      <td>11093.612112</td>\n",
       "    </tr>\n",
       "    <tr>\n",
       "      <th>30</th>\n",
       "      <td>0</td>\n",
       "      <td>40-49</td>\n",
       "      <td>51-60</td>\n",
       "      <td>12976.771710</td>\n",
       "    </tr>\n",
       "    <tr>\n",
       "      <th>26</th>\n",
       "      <td>0</td>\n",
       "      <td>20-29</td>\n",
       "      <td>51-60</td>\n",
       "      <td>13262.289431</td>\n",
       "    </tr>\n",
       "    <tr>\n",
       "      <th>28</th>\n",
       "      <td>0</td>\n",
       "      <td>30-39</td>\n",
       "      <td>51-60</td>\n",
       "      <td>13309.458838</td>\n",
       "    </tr>\n",
       "    <tr>\n",
       "      <th>36</th>\n",
       "      <td>0</td>\n",
       "      <td>40-49</td>\n",
       "      <td>61+</td>\n",
       "      <td>13685.925250</td>\n",
       "    </tr>\n",
       "    <tr>\n",
       "      <th>1</th>\n",
       "      <td>1</td>\n",
       "      <td>15-19</td>\n",
       "      <td>18-30</td>\n",
       "      <td>14097.226200</td>\n",
       "    </tr>\n",
       "    <tr>\n",
       "      <th>34</th>\n",
       "      <td>0</td>\n",
       "      <td>30-39</td>\n",
       "      <td>61+</td>\n",
       "      <td>15164.296118</td>\n",
       "    </tr>\n",
       "  </tbody>\n",
       "</table>\n",
       "</div>"
      ],
      "text/plain": [
       "    smoker bmi_range age_range       charges\n",
       "8        0       50+     18-30   1800.758950\n",
       "6        0     40-49     18-30   3605.178305\n",
       "2        0     20-29     18-30   4312.694089\n",
       "0        0     15-19     18-30   4465.159918\n",
       "4        0     30-39     18-30   4700.572922\n",
       "10       0     15-19     31-40   6470.355250\n",
       "12       0     20-29     31-40   6624.380177\n",
       "14       0     30-39     31-40   6651.465885\n",
       "16       0     40-49     31-40   7040.778786\n",
       "18       0     15-19     41-50   8444.038838\n",
       "21       0     30-39     41-50   9048.353544\n",
       "23       0     40-49     41-50   9099.679382\n",
       "19       0     20-29     41-50   9978.231823\n",
       "25       0     15-19     51-60  11093.612112\n",
       "30       0     40-49     51-60  12976.771710\n",
       "26       0     20-29     51-60  13262.289431\n",
       "28       0     30-39     51-60  13309.458838\n",
       "36       0     40-49       61+  13685.925250\n",
       "1        1     15-19     18-30  14097.226200\n",
       "34       0     30-39       61+  15164.296118"
      ]
     },
     "execution_count": 50,
     "metadata": {},
     "output_type": "execute_result"
    }
   ],
   "source": [
    "target_pop.head(20)"
   ]
  },
  {
   "cell_type": "markdown",
   "metadata": {},
   "source": [
    "**target_pop** dataframe can be used by the hospital to decide on the type of population it should use to minimize it's cost."
   ]
  },
  {
   "cell_type": "markdown",
   "metadata": {},
   "source": [
    "### 10. A Co-worker asks you whether you should use AIC, BIC, or R-squared to evaluate one model over another. Explain to them (in layman's terms) each of these metrics and why you should use one over the other."
   ]
  },
  {
   "cell_type": "markdown",
   "metadata": {},
   "source": [
    "Adjusted R-Squared is a version of R-Squared that adjusted for the number of predictors (independent variables) in a model. This Adjusted R-Squared has an advantage over the normal R-Squared metric because it accounts for statistical shrinkage and the normal R-Squared metric tends to hurt more when more independent variables occur in the system.\n",
    "The AIC (Akaike Information Criterion) Metric describes the quality of the model with the data that is given. AIC is applicable in a broad range of modeling frameworks as it only requires large sample properties of maximum likelihood estimator. It uses candidate models to manipulate the data but does not require the assumption that these models will be true or correct. AIC is the trade-off between goodness of fit and complexity of the variables that are considered in the problem. R-Squared changes relative to the complexity of the system (variables) but AIC does not. \n",
    "The BIC (Bayesian Information Criterion) is closely related to AIC except for it uses a Bayesian (probability) argument to figure out the goodness to fit. It also has the same advantage over the R-Squared metric in that complex problems are less impacted with AIC or BIC vs. R-Squared method."
   ]
  },
  {
   "cell_type": "markdown",
   "metadata": {},
   "source": [
    "### 11. If this was a time-series panel as opposed to cross-sectional data, how would you have changed your model?"
   ]
  },
  {
   "cell_type": "markdown",
   "metadata": {},
   "source": [
    "As we know that Time-series data is a set of observations collected at usually discrete and equally spaced time intervals and Cross-sectional data are observations that come from different individuals or groups at a single point in time.<br><br>\n",
    "So the way I'll change my model is by incorporating the target variable \"charges\" as a feature and taking a lot of time steps to check if the \"charges\" have changed over time."
   ]
  },
  {
   "cell_type": "markdown",
   "metadata": {},
   "source": [
    "### 12. Your boss comes to you and says we wants to limit patients that may cost more than 50K. You don't need to write code to do this, but outline how you could create a model that would take a new patient's characteristics and output the probability that their medical charges would be over 50K.<br>\n",
    "### How would you evaluate the effectiveness of your model?<br>\n",
    "### Once your boss gets your model, he/she sees that your model outputs probabilities. He/She then asks you what probability cut-off should we use to exclude patients (ie if prob is above X, we exclude them. Tell us what X should be)"
   ]
  },
  {
   "cell_type": "markdown",
   "metadata": {},
   "source": [
    "I would bulid a classification model to limit the patients that may cost more than 50K <br>\n",
    "With the target variable = 1 if the cost is > 50k and 0 if the cost is < 50k <br>\n",
    "I would use Logistic Regression as my model to get the probabilities of the getting the target = 1 <br>\n",
    "I would use **Precision = True Positives / True Positives + False Postives** as the metric to evaluate the effectiveness of the model <br>\n",
    "For the probability of the cut-off I would form a Receiver Operating Characteristics (ROC) curve to get all the thressholds and select the cut-off will would maximize my precision without increasing my False Positive rate a lot. \n"
   ]
  },
  {
   "cell_type": "code",
   "execution_count": null,
   "metadata": {},
   "outputs": [],
   "source": []
  }
 ],
 "metadata": {
  "kernelspec": {
   "display_name": "Python 3",
   "language": "python",
   "name": "python3"
  },
  "language_info": {
   "codemirror_mode": {
    "name": "ipython",
    "version": 3
   },
   "file_extension": ".py",
   "mimetype": "text/x-python",
   "name": "python",
   "nbconvert_exporter": "python",
   "pygments_lexer": "ipython3",
   "version": "3.7.1"
  }
 },
 "nbformat": 4,
 "nbformat_minor": 2
}
